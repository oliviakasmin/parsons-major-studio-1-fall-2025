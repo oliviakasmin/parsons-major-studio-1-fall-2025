{
 "cells": [
  {
   "cell_type": "markdown",
   "id": "c7357d14",
   "metadata": {},
   "source": [
    "#### normalize llm extracted values to return valid data points for frontend use / visualization\n",
    "\n",
    "1. frequency\n",
    "2. yearly amount \n",
    "3. act date\n",
    "4. place  "
   ]
  },
  {
   "cell_type": "code",
   "execution_count": 1,
   "id": "ada733cf",
   "metadata": {},
   "outputs": [],
   "source": [
    "# %load_ext autoreload\n",
    "# %autoreload 2"
   ]
  },
  {
   "cell_type": "code",
   "execution_count": 2,
   "id": "2e6172e3",
   "metadata": {},
   "outputs": [],
   "source": [
    "import pandas as pd\n",
    "import ast\n",
    "# import json"
   ]
  },
  {
   "cell_type": "code",
   "execution_count": 3,
   "id": "bd533c64",
   "metadata": {},
   "outputs": [],
   "source": [
    "from normalize_frequency import normalize_pension_frequency\n",
    "from normalize_yearly_amount import normalize_yearly_amount\n",
    "from normalize_pension_act_date import get_known_act_date\n",
    "from normalize_state import normalize_place"
   ]
  },
  {
   "cell_type": "markdown",
   "id": "e1fbfe1f",
   "metadata": {},
   "source": [
    "#### change this df in future - can then apply rest of notebook as is"
   ]
  },
  {
   "cell_type": "code",
   "execution_count": 4,
   "id": "d1a79bbc",
   "metadata": {},
   "outputs": [],
   "source": [
    "df = pd.read_csv('extracted_amounts_sample_1000_pre_normalization.csv')"
   ]
  },
  {
   "cell_type": "code",
   "execution_count": 5,
   "id": "94627a83",
   "metadata": {},
   "outputs": [
    {
     "data": {
      "text/plain": [
       "(872, 9)"
      ]
     },
     "execution_count": 5,
     "metadata": {},
     "output_type": "execute_result"
    }
   ],
   "source": [
    "df.columns\n",
    "df.shape"
   ]
  },
  {
   "cell_type": "markdown",
   "id": "44bcddc7",
   "metadata": {},
   "source": [
    "##### frequency"
   ]
  },
  {
   "cell_type": "code",
   "execution_count": 6,
   "id": "7e371fa2",
   "metadata": {},
   "outputs": [],
   "source": [
    "# Apply the normalization function to create a new column\n",
    "df['normalized_payment_frequency'] = df['llm_extracted_pension_amount'].apply(\n",
    "    lambda x: normalize_pension_frequency(\n",
    "        ast.literal_eval(x).get('pension_frequency') if isinstance(x, str) else x.get('pension_frequency')\n",
    "    ) if (isinstance(x, str) or isinstance(x, dict)) else 'unknown'\n",
    ")"
   ]
  },
  {
   "cell_type": "code",
   "execution_count": 7,
   "id": "0c3b4460",
   "metadata": {},
   "outputs": [
    {
     "name": "stdout",
     "output_type": "stream",
     "text": [
      "normalized_payment_frequency\n",
      "annual         675\n",
      "monthly        162\n",
      "unknown         31\n",
      "semi-annual      4\n",
      "Name: count, dtype: int64\n"
     ]
    }
   ],
   "source": [
    "print(df['normalized_payment_frequency'].value_counts(dropna=False))"
   ]
  },
  {
   "cell_type": "markdown",
   "id": "c8b3b033",
   "metadata": {},
   "source": [
    "##### yearly amount"
   ]
  },
  {
   "cell_type": "code",
   "execution_count": 8,
   "id": "a401bbaf",
   "metadata": {},
   "outputs": [],
   "source": [
    "df['normalized_yearly_amount'] = df.apply(\n",
    "    lambda row: normalize_yearly_amount(\n",
    "        (ast.literal_eval(row['llm_extracted_pension_amount']) if isinstance(row['llm_extracted_pension_amount'], str) else row['llm_extracted_pension_amount']).get('pension_amount'),\n",
    "        row['normalized_payment_frequency']\n",
    "    ) if isinstance(row['llm_extracted_pension_amount'], (str, dict)) else None,\n",
    "    axis=1\n",
    ")"
   ]
  },
  {
   "cell_type": "code",
   "execution_count": 9,
   "id": "e2209397",
   "metadata": {},
   "outputs": [
    {
     "name": "stdout",
     "output_type": "stream",
     "text": [
      "count      838.000000\n",
      "mean       133.096021\n",
      "std       1042.036960\n",
      "min          2.000000\n",
      "25%         33.505000\n",
      "50%         80.000000\n",
      "75%         96.000000\n",
      "max      28932.000000\n",
      "Name: normalized_yearly_amount, dtype: float64\n"
     ]
    }
   ],
   "source": [
    "# df.head()\n",
    "print(df['normalized_yearly_amount'].describe())"
   ]
  },
  {
   "cell_type": "markdown",
   "id": "51cbb5f5",
   "metadata": {},
   "source": [
    "#### get known act dates"
   ]
  },
  {
   "cell_type": "code",
   "execution_count": 10,
   "id": "26e1fe0b",
   "metadata": {},
   "outputs": [],
   "source": [
    "df['known_act_date'] = df.apply(\n",
    "    lambda row: get_known_act_date(\n",
    "        (ast.literal_eval(row['llm_extracted_pension_amount']) if isinstance(row['llm_extracted_pension_amount'], str) else row['llm_extracted_pension_amount']).get('pension_act')\n",
    "    ) if isinstance(row['llm_extracted_pension_amount'], (str, dict)) else None,\n",
    "    axis=1\n",
    ")"
   ]
  },
  {
   "cell_type": "code",
   "execution_count": 11,
   "id": "63b3a1f8",
   "metadata": {},
   "outputs": [
    {
     "name": "stdout",
     "output_type": "stream",
     "text": [
      "known_act_date\n",
      "None          296\n",
      "1832-06-07    251\n",
      "1818-03-18    126\n",
      "1838-07-07     94\n",
      "1843-03-03     69\n",
      "1836-07-04     29\n",
      "1855-03-03      4\n",
      "1828-05-15      2\n",
      "1820-05-01      1\n",
      "Name: count, dtype: int64\n"
     ]
    }
   ],
   "source": [
    "# View the results\n",
    "print(df['known_act_date'].value_counts(dropna=False))\n",
    "# print(df['known_act_date'].notna().sum())"
   ]
  },
  {
   "cell_type": "markdown",
   "id": "7c6fa4a7",
   "metadata": {},
   "source": [
    "#### normalize place"
   ]
  },
  {
   "cell_type": "code",
   "execution_count": 12,
   "id": "b437c349",
   "metadata": {},
   "outputs": [],
   "source": [
    "from normalize_state import get_non_standard_places\n",
    "from normalize_state import state_mapping"
   ]
  },
  {
   "cell_type": "code",
   "execution_count": 13,
   "id": "f1885169",
   "metadata": {},
   "outputs": [],
   "source": [
    "# Add extracted_place column (full result of normalize_place)\n",
    "df['extracted_place'] = df['llm_extracted_pension_amount'].apply(\n",
    "    lambda x: normalize_place(\n",
    "        ast.literal_eval(x).get('place') if isinstance(x, str) else (x.get('place') if isinstance(x, dict) else None)\n",
    "    ) if (isinstance(x, str) or isinstance(x, dict)) else None\n",
    ")\n",
    "\n",
    "# Get the standard states from the mapping\n",
    "standard_states = set(state_mapping.keys())\n",
    "\n",
    "# Add normalized_place column (only standard state mappings, otherwise None)\n",
    "df['normalized_place'] = df['extracted_place'].apply(\n",
    "    lambda x: x if x in standard_states else None\n",
    ")"
   ]
  },
  {
   "cell_type": "code",
   "execution_count": 14,
   "id": "12d9d9b0",
   "metadata": {},
   "outputs": [
    {
     "data": {
      "text/plain": [
       "normalized_place\n",
       "new york           152\n",
       "None               115\n",
       "massachusetts       70\n",
       "new hampshire       53\n",
       "pennsylvania        48\n",
       "connecticut         48\n",
       "virginia            47\n",
       "maine               46\n",
       "vermont             45\n",
       "ohio                44\n",
       "north carolina      39\n",
       "kentucky            35\n",
       "tennessee           31\n",
       "new jersey          20\n",
       "indiana             15\n",
       "georgia             14\n",
       "rhode island        13\n",
       "alabama              8\n",
       "maryland             7\n",
       "illinois             7\n",
       "michigan             4\n",
       "missouri             4\n",
       "mississippi          4\n",
       "south carolina       1\n",
       "iowa                 1\n",
       "washington d.c.      1\n",
       "Name: count, dtype: int64"
      ]
     },
     "metadata": {},
     "output_type": "display_data"
    }
   ],
   "source": [
    "display(df['normalized_place'].value_counts(dropna=False))"
   ]
  },
  {
   "cell_type": "code",
   "execution_count": 15,
   "id": "0e62c8cd",
   "metadata": {},
   "outputs": [
    {
     "name": "stdout",
     "output_type": "stream",
     "text": [
      "Non-standard normalized place values (not in state_mapping):\n"
     ]
    },
    {
     "data": {
      "text/plain": [
       "normalized_place\n",
       "None    115\n",
       "Name: count, dtype: int64"
      ]
     },
     "metadata": {},
     "output_type": "display_data"
    }
   ],
   "source": [
    "display(get_non_standard_places(df))"
   ]
  },
  {
   "cell_type": "code",
   "execution_count": 16,
   "id": "29ba428f",
   "metadata": {},
   "outputs": [
    {
     "data": {
      "text/html": [
       "<div>\n",
       "<style scoped>\n",
       "    .dataframe tbody tr th:only-of-type {\n",
       "        vertical-align: middle;\n",
       "    }\n",
       "\n",
       "    .dataframe tbody tr th {\n",
       "        vertical-align: top;\n",
       "    }\n",
       "\n",
       "    .dataframe thead th {\n",
       "        text-align: right;\n",
       "    }\n",
       "</style>\n",
       "<table border=\"1\" class=\"dataframe\">\n",
       "  <thead>\n",
       "    <tr style=\"text-align: right;\">\n",
       "      <th></th>\n",
       "      <th>Unnamed: 0</th>\n",
       "      <th>NAID</th>\n",
       "      <th>naraURL</th>\n",
       "      <th>title</th>\n",
       "      <th>pageObjectId</th>\n",
       "      <th>pageURL</th>\n",
       "      <th>file_cat</th>\n",
       "      <th>llm_extracted_pension_amount</th>\n",
       "      <th>llm_extracted_pension_amount_dollars</th>\n",
       "      <th>normalized_payment_frequency</th>\n",
       "      <th>normalized_yearly_amount</th>\n",
       "      <th>known_act_date</th>\n",
       "      <th>extracted_place</th>\n",
       "      <th>normalized_place</th>\n",
       "    </tr>\n",
       "  </thead>\n",
       "  <tbody>\n",
       "    <tr>\n",
       "      <th>0</th>\n",
       "      <td>0</td>\n",
       "      <td>111708949</td>\n",
       "      <td>https://catalog.archives.gov/id/111708949</td>\n",
       "      <td>Revolutionary War Pension and Bounty Land Warr...</td>\n",
       "      <td>111708987</td>\n",
       "      <td>https://s3.amazonaws.com/NARAprodstorage/lz/mi...</td>\n",
       "      <td>widow</td>\n",
       "      <td>{'applicant_name': 'Eunice Wilder', 'applicant...</td>\n",
       "      <td>True</td>\n",
       "      <td>annual</td>\n",
       "      <td>30.0</td>\n",
       "      <td>1838-07-07</td>\n",
       "      <td>ohio</td>\n",
       "      <td>ohio</td>\n",
       "    </tr>\n",
       "    <tr>\n",
       "      <th>1</th>\n",
       "      <td>1</td>\n",
       "      <td>196100358</td>\n",
       "      <td>https://catalog.archives.gov/id/196100358</td>\n",
       "      <td>Revolutionary War Pension and Bounty Land Warr...</td>\n",
       "      <td>196100360</td>\n",
       "      <td>https://s3.amazonaws.com/NARAprodstorage/lz/mi...</td>\n",
       "      <td>soldier</td>\n",
       "      <td>{'applicant_name': 'George Keller', 'applicant...</td>\n",
       "      <td>True</td>\n",
       "      <td>annual</td>\n",
       "      <td>60.0</td>\n",
       "      <td>1832-06-07</td>\n",
       "      <td>Elgin</td>\n",
       "      <td>None</td>\n",
       "    </tr>\n",
       "    <tr>\n",
       "      <th>2</th>\n",
       "      <td>2</td>\n",
       "      <td>111503547</td>\n",
       "      <td>https://catalog.archives.gov/id/111503547</td>\n",
       "      <td>Revolutionary War Pension and Bounty Land Warr...</td>\n",
       "      <td>111503552</td>\n",
       "      <td>https://s3.amazonaws.com/NARAprodstorage/lz/mi...</td>\n",
       "      <td>widow</td>\n",
       "      <td>{'applicant_name': 'Mildred Hart', 'applicant_...</td>\n",
       "      <td>True</td>\n",
       "      <td>annual</td>\n",
       "      <td>26.1</td>\n",
       "      <td>1838-07-07</td>\n",
       "      <td>virginia</td>\n",
       "      <td>virginia</td>\n",
       "    </tr>\n",
       "    <tr>\n",
       "      <th>3</th>\n",
       "      <td>3</td>\n",
       "      <td>54362674</td>\n",
       "      <td>https://catalog.archives.gov/id/54362674</td>\n",
       "      <td>Revolutionary War Pension and Bounty Land Warr...</td>\n",
       "      <td>54362689</td>\n",
       "      <td>https://s3.amazonaws.com/NARAprodstorage/opast...</td>\n",
       "      <td>widow</td>\n",
       "      <td>{'applicant_name': 'Mary Date', 'applicant_typ...</td>\n",
       "      <td>True</td>\n",
       "      <td>annual</td>\n",
       "      <td>44.0</td>\n",
       "      <td>1838-07-07</td>\n",
       "      <td>kentucky</td>\n",
       "      <td>kentucky</td>\n",
       "    </tr>\n",
       "    <tr>\n",
       "      <th>4</th>\n",
       "      <td>4</td>\n",
       "      <td>54330151</td>\n",
       "      <td>https://catalog.archives.gov/id/54330151</td>\n",
       "      <td>Revolutionary War Pension and Bounty Land Warr...</td>\n",
       "      <td>54330216</td>\n",
       "      <td>https://s3.amazonaws.com/NARAprodstorage/opast...</td>\n",
       "      <td>widow</td>\n",
       "      <td>{'applicant_name': 'John Crawford', 'applicant...</td>\n",
       "      <td>True</td>\n",
       "      <td>annual</td>\n",
       "      <td>80.0</td>\n",
       "      <td>1832-06-07</td>\n",
       "      <td>ohio</td>\n",
       "      <td>ohio</td>\n",
       "    </tr>\n",
       "  </tbody>\n",
       "</table>\n",
       "</div>"
      ],
      "text/plain": [
       "   Unnamed: 0       NAID                                    naraURL  \\\n",
       "0           0  111708949  https://catalog.archives.gov/id/111708949   \n",
       "1           1  196100358  https://catalog.archives.gov/id/196100358   \n",
       "2           2  111503547  https://catalog.archives.gov/id/111503547   \n",
       "3           3   54362674   https://catalog.archives.gov/id/54362674   \n",
       "4           4   54330151   https://catalog.archives.gov/id/54330151   \n",
       "\n",
       "                                               title  pageObjectId  \\\n",
       "0  Revolutionary War Pension and Bounty Land Warr...     111708987   \n",
       "1  Revolutionary War Pension and Bounty Land Warr...     196100360   \n",
       "2  Revolutionary War Pension and Bounty Land Warr...     111503552   \n",
       "3  Revolutionary War Pension and Bounty Land Warr...      54362689   \n",
       "4  Revolutionary War Pension and Bounty Land Warr...      54330216   \n",
       "\n",
       "                                             pageURL file_cat  \\\n",
       "0  https://s3.amazonaws.com/NARAprodstorage/lz/mi...    widow   \n",
       "1  https://s3.amazonaws.com/NARAprodstorage/lz/mi...  soldier   \n",
       "2  https://s3.amazonaws.com/NARAprodstorage/lz/mi...    widow   \n",
       "3  https://s3.amazonaws.com/NARAprodstorage/opast...    widow   \n",
       "4  https://s3.amazonaws.com/NARAprodstorage/opast...    widow   \n",
       "\n",
       "                        llm_extracted_pension_amount  \\\n",
       "0  {'applicant_name': 'Eunice Wilder', 'applicant...   \n",
       "1  {'applicant_name': 'George Keller', 'applicant...   \n",
       "2  {'applicant_name': 'Mildred Hart', 'applicant_...   \n",
       "3  {'applicant_name': 'Mary Date', 'applicant_typ...   \n",
       "4  {'applicant_name': 'John Crawford', 'applicant...   \n",
       "\n",
       "   llm_extracted_pension_amount_dollars normalized_payment_frequency  \\\n",
       "0                                  True                       annual   \n",
       "1                                  True                       annual   \n",
       "2                                  True                       annual   \n",
       "3                                  True                       annual   \n",
       "4                                  True                       annual   \n",
       "\n",
       "   normalized_yearly_amount known_act_date extracted_place normalized_place  \n",
       "0                      30.0     1838-07-07            ohio             ohio  \n",
       "1                      60.0     1832-06-07           Elgin             None  \n",
       "2                      26.1     1838-07-07        virginia         virginia  \n",
       "3                      44.0     1838-07-07        kentucky         kentucky  \n",
       "4                      80.0     1832-06-07            ohio             ohio  "
      ]
     },
     "execution_count": 16,
     "metadata": {},
     "output_type": "execute_result"
    }
   ],
   "source": [
    "df.head()"
   ]
  },
  {
   "cell_type": "markdown",
   "id": "4ff077ec",
   "metadata": {},
   "source": [
    "#### add applicant type as new column for FE ease"
   ]
  },
  {
   "cell_type": "code",
   "execution_count": 17,
   "id": "7ee1bc38",
   "metadata": {},
   "outputs": [],
   "source": [
    "df['extracted_applicant_type'] = df['llm_extracted_pension_amount'].apply(\n",
    "    lambda x: (\n",
    "        ast.literal_eval(x).get('applicant_type') if isinstance(x, str) else x.get('applicant_type')\n",
    "    ) if (isinstance(x, str) or isinstance(x, dict)) else None\n",
    ")"
   ]
  },
  {
   "cell_type": "code",
   "execution_count": 21,
   "id": "f4749f87",
   "metadata": {},
   "outputs": [
    {
     "name": "stdout",
     "output_type": "stream",
     "text": [
      "extracted_applicant_type\n",
      "widow      424\n",
      "soldier    421\n",
      "None        24\n",
      "unknown      2\n",
      "null         1\n",
      "Name: count, dtype: int64\n"
     ]
    }
   ],
   "source": [
    "print(df['extracted_applicant_type'].value_counts(dropna=False))"
   ]
  },
  {
   "cell_type": "code",
   "execution_count": 19,
   "id": "1a3b24ba",
   "metadata": {},
   "outputs": [
    {
     "data": {
      "text/html": [
       "<div>\n",
       "<style scoped>\n",
       "    .dataframe tbody tr th:only-of-type {\n",
       "        vertical-align: middle;\n",
       "    }\n",
       "\n",
       "    .dataframe tbody tr th {\n",
       "        vertical-align: top;\n",
       "    }\n",
       "\n",
       "    .dataframe thead th {\n",
       "        text-align: right;\n",
       "    }\n",
       "</style>\n",
       "<table border=\"1\" class=\"dataframe\">\n",
       "  <thead>\n",
       "    <tr style=\"text-align: right;\">\n",
       "      <th></th>\n",
       "      <th>Unnamed: 0</th>\n",
       "      <th>NAID</th>\n",
       "      <th>naraURL</th>\n",
       "      <th>title</th>\n",
       "      <th>pageObjectId</th>\n",
       "      <th>pageURL</th>\n",
       "      <th>file_cat</th>\n",
       "      <th>llm_extracted_pension_amount</th>\n",
       "      <th>llm_extracted_pension_amount_dollars</th>\n",
       "      <th>normalized_payment_frequency</th>\n",
       "      <th>normalized_yearly_amount</th>\n",
       "      <th>known_act_date</th>\n",
       "      <th>extracted_place</th>\n",
       "      <th>normalized_place</th>\n",
       "      <th>extracted_applicant_type</th>\n",
       "    </tr>\n",
       "  </thead>\n",
       "  <tbody>\n",
       "    <tr>\n",
       "      <th>0</th>\n",
       "      <td>0</td>\n",
       "      <td>111708949</td>\n",
       "      <td>https://catalog.archives.gov/id/111708949</td>\n",
       "      <td>Revolutionary War Pension and Bounty Land Warr...</td>\n",
       "      <td>111708987</td>\n",
       "      <td>https://s3.amazonaws.com/NARAprodstorage/lz/mi...</td>\n",
       "      <td>widow</td>\n",
       "      <td>{'applicant_name': 'Eunice Wilder', 'applicant...</td>\n",
       "      <td>True</td>\n",
       "      <td>annual</td>\n",
       "      <td>30.0</td>\n",
       "      <td>1838-07-07</td>\n",
       "      <td>ohio</td>\n",
       "      <td>ohio</td>\n",
       "      <td>widow</td>\n",
       "    </tr>\n",
       "    <tr>\n",
       "      <th>1</th>\n",
       "      <td>1</td>\n",
       "      <td>196100358</td>\n",
       "      <td>https://catalog.archives.gov/id/196100358</td>\n",
       "      <td>Revolutionary War Pension and Bounty Land Warr...</td>\n",
       "      <td>196100360</td>\n",
       "      <td>https://s3.amazonaws.com/NARAprodstorage/lz/mi...</td>\n",
       "      <td>soldier</td>\n",
       "      <td>{'applicant_name': 'George Keller', 'applicant...</td>\n",
       "      <td>True</td>\n",
       "      <td>annual</td>\n",
       "      <td>60.0</td>\n",
       "      <td>1832-06-07</td>\n",
       "      <td>Elgin</td>\n",
       "      <td>None</td>\n",
       "      <td>soldier</td>\n",
       "    </tr>\n",
       "    <tr>\n",
       "      <th>2</th>\n",
       "      <td>2</td>\n",
       "      <td>111503547</td>\n",
       "      <td>https://catalog.archives.gov/id/111503547</td>\n",
       "      <td>Revolutionary War Pension and Bounty Land Warr...</td>\n",
       "      <td>111503552</td>\n",
       "      <td>https://s3.amazonaws.com/NARAprodstorage/lz/mi...</td>\n",
       "      <td>widow</td>\n",
       "      <td>{'applicant_name': 'Mildred Hart', 'applicant_...</td>\n",
       "      <td>True</td>\n",
       "      <td>annual</td>\n",
       "      <td>26.1</td>\n",
       "      <td>1838-07-07</td>\n",
       "      <td>virginia</td>\n",
       "      <td>virginia</td>\n",
       "      <td>widow</td>\n",
       "    </tr>\n",
       "    <tr>\n",
       "      <th>3</th>\n",
       "      <td>3</td>\n",
       "      <td>54362674</td>\n",
       "      <td>https://catalog.archives.gov/id/54362674</td>\n",
       "      <td>Revolutionary War Pension and Bounty Land Warr...</td>\n",
       "      <td>54362689</td>\n",
       "      <td>https://s3.amazonaws.com/NARAprodstorage/opast...</td>\n",
       "      <td>widow</td>\n",
       "      <td>{'applicant_name': 'Mary Date', 'applicant_typ...</td>\n",
       "      <td>True</td>\n",
       "      <td>annual</td>\n",
       "      <td>44.0</td>\n",
       "      <td>1838-07-07</td>\n",
       "      <td>kentucky</td>\n",
       "      <td>kentucky</td>\n",
       "      <td>widow</td>\n",
       "    </tr>\n",
       "    <tr>\n",
       "      <th>4</th>\n",
       "      <td>4</td>\n",
       "      <td>54330151</td>\n",
       "      <td>https://catalog.archives.gov/id/54330151</td>\n",
       "      <td>Revolutionary War Pension and Bounty Land Warr...</td>\n",
       "      <td>54330216</td>\n",
       "      <td>https://s3.amazonaws.com/NARAprodstorage/opast...</td>\n",
       "      <td>widow</td>\n",
       "      <td>{'applicant_name': 'John Crawford', 'applicant...</td>\n",
       "      <td>True</td>\n",
       "      <td>annual</td>\n",
       "      <td>80.0</td>\n",
       "      <td>1832-06-07</td>\n",
       "      <td>ohio</td>\n",
       "      <td>ohio</td>\n",
       "      <td>soldier</td>\n",
       "    </tr>\n",
       "  </tbody>\n",
       "</table>\n",
       "</div>"
      ],
      "text/plain": [
       "   Unnamed: 0       NAID                                    naraURL  \\\n",
       "0           0  111708949  https://catalog.archives.gov/id/111708949   \n",
       "1           1  196100358  https://catalog.archives.gov/id/196100358   \n",
       "2           2  111503547  https://catalog.archives.gov/id/111503547   \n",
       "3           3   54362674   https://catalog.archives.gov/id/54362674   \n",
       "4           4   54330151   https://catalog.archives.gov/id/54330151   \n",
       "\n",
       "                                               title  pageObjectId  \\\n",
       "0  Revolutionary War Pension and Bounty Land Warr...     111708987   \n",
       "1  Revolutionary War Pension and Bounty Land Warr...     196100360   \n",
       "2  Revolutionary War Pension and Bounty Land Warr...     111503552   \n",
       "3  Revolutionary War Pension and Bounty Land Warr...      54362689   \n",
       "4  Revolutionary War Pension and Bounty Land Warr...      54330216   \n",
       "\n",
       "                                             pageURL file_cat  \\\n",
       "0  https://s3.amazonaws.com/NARAprodstorage/lz/mi...    widow   \n",
       "1  https://s3.amazonaws.com/NARAprodstorage/lz/mi...  soldier   \n",
       "2  https://s3.amazonaws.com/NARAprodstorage/lz/mi...    widow   \n",
       "3  https://s3.amazonaws.com/NARAprodstorage/opast...    widow   \n",
       "4  https://s3.amazonaws.com/NARAprodstorage/opast...    widow   \n",
       "\n",
       "                        llm_extracted_pension_amount  \\\n",
       "0  {'applicant_name': 'Eunice Wilder', 'applicant...   \n",
       "1  {'applicant_name': 'George Keller', 'applicant...   \n",
       "2  {'applicant_name': 'Mildred Hart', 'applicant_...   \n",
       "3  {'applicant_name': 'Mary Date', 'applicant_typ...   \n",
       "4  {'applicant_name': 'John Crawford', 'applicant...   \n",
       "\n",
       "   llm_extracted_pension_amount_dollars normalized_payment_frequency  \\\n",
       "0                                  True                       annual   \n",
       "1                                  True                       annual   \n",
       "2                                  True                       annual   \n",
       "3                                  True                       annual   \n",
       "4                                  True                       annual   \n",
       "\n",
       "   normalized_yearly_amount known_act_date extracted_place normalized_place  \\\n",
       "0                      30.0     1838-07-07            ohio             ohio   \n",
       "1                      60.0     1832-06-07           Elgin             None   \n",
       "2                      26.1     1838-07-07        virginia         virginia   \n",
       "3                      44.0     1838-07-07        kentucky         kentucky   \n",
       "4                      80.0     1832-06-07            ohio             ohio   \n",
       "\n",
       "  extracted_applicant_type  \n",
       "0                    widow  \n",
       "1                  soldier  \n",
       "2                    widow  \n",
       "3                    widow  \n",
       "4                  soldier  "
      ]
     },
     "execution_count": 19,
     "metadata": {},
     "output_type": "execute_result"
    }
   ],
   "source": [
    "df.head()"
   ]
  },
  {
   "cell_type": "code",
   "execution_count": 22,
   "id": "73c778a7",
   "metadata": {},
   "outputs": [],
   "source": [
    "df.to_csv('extracted_amounts_sample_1000_post_normalization.csv')"
   ]
  },
  {
   "cell_type": "code",
   "execution_count": null,
   "id": "c3396764",
   "metadata": {},
   "outputs": [],
   "source": []
  }
 ],
 "metadata": {
  "kernelspec": {
   "display_name": "pension-files",
   "language": "python",
   "name": "python3"
  },
  "language_info": {
   "codemirror_mode": {
    "name": "ipython",
    "version": 3
   },
   "file_extension": ".py",
   "mimetype": "text/x-python",
   "name": "python",
   "nbconvert_exporter": "python",
   "pygments_lexer": "ipython3",
   "version": "3.13.7"
  }
 },
 "nbformat": 4,
 "nbformat_minor": 5
}
