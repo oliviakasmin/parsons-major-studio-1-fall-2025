{
 "cells": [
  {
   "cell_type": "markdown",
   "id": "a8992750",
   "metadata": {},
   "source": [
    "Join original 1000 random samples with entire df, then export again with added columns to process the remaining"
   ]
  },
  {
   "cell_type": "code",
   "execution_count": 1,
   "id": "3f4e3815",
   "metadata": {},
   "outputs": [],
   "source": [
    "import pandas as pd"
   ]
  },
  {
   "cell_type": "code",
   "execution_count": 2,
   "id": "693e83ca",
   "metadata": {},
   "outputs": [],
   "source": [
    "df = pd.read_parquet(\"../filtered_pension_amounts_subset.parquet\")"
   ]
  },
  {
   "cell_type": "code",
   "execution_count": 3,
   "id": "b815ce44",
   "metadata": {},
   "outputs": [
    {
     "data": {
      "text/plain": [
       "(201523, 7)"
      ]
     },
     "execution_count": 3,
     "metadata": {},
     "output_type": "execute_result"
    }
   ],
   "source": [
    "df.shape"
   ]
  },
  {
   "cell_type": "code",
   "execution_count": 4,
   "id": "316b96c2",
   "metadata": {},
   "outputs": [],
   "source": [
    "df_1000_sample = pd.read_json(\"./extracted_amounts_sample_1000_without_text.json\")"
   ]
  },
  {
   "cell_type": "code",
   "execution_count": 5,
   "id": "ddad9036",
   "metadata": {},
   "outputs": [
    {
     "data": {
      "text/plain": [
       "(872, 7)"
      ]
     },
     "execution_count": 5,
     "metadata": {},
     "output_type": "execute_result"
    }
   ],
   "source": [
    "df_1000_sample.shape"
   ]
  },
  {
   "cell_type": "code",
   "execution_count": 71,
   "id": "e1d154b6",
   "metadata": {},
   "outputs": [],
   "source": [
    "# df_1000_sample.head()"
   ]
  },
  {
   "cell_type": "code",
   "execution_count": 6,
   "id": "ad1c4cba",
   "metadata": {},
   "outputs": [],
   "source": [
    "df_1000_sample.columns = df_1000_sample.columns.str.replace(\n",
    "    'extracted_pension_amount', \n",
    "    'llm_extracted_pension_amount'\n",
    ")"
   ]
  },
  {
   "cell_type": "code",
   "execution_count": 73,
   "id": "d8e1f196",
   "metadata": {},
   "outputs": [],
   "source": [
    "# df_1000_sample.head()"
   ]
  },
  {
   "cell_type": "code",
   "execution_count": 7,
   "id": "21e08ceb",
   "metadata": {},
   "outputs": [],
   "source": [
    "df_1000_sample['llm_extracted_pension_amount_dollars'] = True"
   ]
  },
  {
   "cell_type": "code",
   "execution_count": 8,
   "id": "53e21421",
   "metadata": {},
   "outputs": [
    {
     "data": {
      "text/html": [
       "<div>\n",
       "<style scoped>\n",
       "    .dataframe tbody tr th:only-of-type {\n",
       "        vertical-align: middle;\n",
       "    }\n",
       "\n",
       "    .dataframe tbody tr th {\n",
       "        vertical-align: top;\n",
       "    }\n",
       "\n",
       "    .dataframe thead th {\n",
       "        text-align: right;\n",
       "    }\n",
       "</style>\n",
       "<table border=\"1\" class=\"dataframe\">\n",
       "  <thead>\n",
       "    <tr style=\"text-align: right;\">\n",
       "      <th></th>\n",
       "      <th>NAID</th>\n",
       "      <th>naraURL</th>\n",
       "      <th>title</th>\n",
       "      <th>pageObjectId</th>\n",
       "      <th>pageURL</th>\n",
       "      <th>file_cat</th>\n",
       "      <th>llm_extracted_pension_amount</th>\n",
       "      <th>llm_extracted_pension_amount_dollars</th>\n",
       "    </tr>\n",
       "  </thead>\n",
       "  <tbody>\n",
       "    <tr>\n",
       "      <th>0</th>\n",
       "      <td>111708949</td>\n",
       "      <td>https://catalog.archives.gov/id/111708949</td>\n",
       "      <td>Revolutionary War Pension and Bounty Land Warr...</td>\n",
       "      <td>111708987</td>\n",
       "      <td>https://s3.amazonaws.com/NARAprodstorage/lz/mi...</td>\n",
       "      <td>widow</td>\n",
       "      <td>{'applicant_name': 'Eunice Wilder', 'applicant...</td>\n",
       "      <td>True</td>\n",
       "    </tr>\n",
       "    <tr>\n",
       "      <th>1</th>\n",
       "      <td>196100358</td>\n",
       "      <td>https://catalog.archives.gov/id/196100358</td>\n",
       "      <td>Revolutionary War Pension and Bounty Land Warr...</td>\n",
       "      <td>196100360</td>\n",
       "      <td>https://s3.amazonaws.com/NARAprodstorage/lz/mi...</td>\n",
       "      <td>soldier</td>\n",
       "      <td>{'applicant_name': 'George Keller', 'applicant...</td>\n",
       "      <td>True</td>\n",
       "    </tr>\n",
       "    <tr>\n",
       "      <th>2</th>\n",
       "      <td>111503547</td>\n",
       "      <td>https://catalog.archives.gov/id/111503547</td>\n",
       "      <td>Revolutionary War Pension and Bounty Land Warr...</td>\n",
       "      <td>111503552</td>\n",
       "      <td>https://s3.amazonaws.com/NARAprodstorage/lz/mi...</td>\n",
       "      <td>widow</td>\n",
       "      <td>{'applicant_name': 'Mildred Hart', 'applicant_...</td>\n",
       "      <td>True</td>\n",
       "    </tr>\n",
       "    <tr>\n",
       "      <th>3</th>\n",
       "      <td>54362674</td>\n",
       "      <td>https://catalog.archives.gov/id/54362674</td>\n",
       "      <td>Revolutionary War Pension and Bounty Land Warr...</td>\n",
       "      <td>54362689</td>\n",
       "      <td>https://s3.amazonaws.com/NARAprodstorage/opast...</td>\n",
       "      <td>widow</td>\n",
       "      <td>{'applicant_name': 'Mary Date', 'applicant_typ...</td>\n",
       "      <td>True</td>\n",
       "    </tr>\n",
       "    <tr>\n",
       "      <th>4</th>\n",
       "      <td>54330151</td>\n",
       "      <td>https://catalog.archives.gov/id/54330151</td>\n",
       "      <td>Revolutionary War Pension and Bounty Land Warr...</td>\n",
       "      <td>54330216</td>\n",
       "      <td>https://s3.amazonaws.com/NARAprodstorage/opast...</td>\n",
       "      <td>widow</td>\n",
       "      <td>{'applicant_name': 'John Crawford', 'applicant...</td>\n",
       "      <td>True</td>\n",
       "    </tr>\n",
       "  </tbody>\n",
       "</table>\n",
       "</div>"
      ],
      "text/plain": [
       "        NAID                                    naraURL  \\\n",
       "0  111708949  https://catalog.archives.gov/id/111708949   \n",
       "1  196100358  https://catalog.archives.gov/id/196100358   \n",
       "2  111503547  https://catalog.archives.gov/id/111503547   \n",
       "3   54362674   https://catalog.archives.gov/id/54362674   \n",
       "4   54330151   https://catalog.archives.gov/id/54330151   \n",
       "\n",
       "                                               title  pageObjectId  \\\n",
       "0  Revolutionary War Pension and Bounty Land Warr...     111708987   \n",
       "1  Revolutionary War Pension and Bounty Land Warr...     196100360   \n",
       "2  Revolutionary War Pension and Bounty Land Warr...     111503552   \n",
       "3  Revolutionary War Pension and Bounty Land Warr...      54362689   \n",
       "4  Revolutionary War Pension and Bounty Land Warr...      54330216   \n",
       "\n",
       "                                             pageURL file_cat  \\\n",
       "0  https://s3.amazonaws.com/NARAprodstorage/lz/mi...    widow   \n",
       "1  https://s3.amazonaws.com/NARAprodstorage/lz/mi...  soldier   \n",
       "2  https://s3.amazonaws.com/NARAprodstorage/lz/mi...    widow   \n",
       "3  https://s3.amazonaws.com/NARAprodstorage/opast...    widow   \n",
       "4  https://s3.amazonaws.com/NARAprodstorage/opast...    widow   \n",
       "\n",
       "                        llm_extracted_pension_amount  \\\n",
       "0  {'applicant_name': 'Eunice Wilder', 'applicant...   \n",
       "1  {'applicant_name': 'George Keller', 'applicant...   \n",
       "2  {'applicant_name': 'Mildred Hart', 'applicant_...   \n",
       "3  {'applicant_name': 'Mary Date', 'applicant_typ...   \n",
       "4  {'applicant_name': 'John Crawford', 'applicant...   \n",
       "\n",
       "   llm_extracted_pension_amount_dollars  \n",
       "0                                  True  \n",
       "1                                  True  \n",
       "2                                  True  \n",
       "3                                  True  \n",
       "4                                  True  "
      ]
     },
     "execution_count": 8,
     "metadata": {},
     "output_type": "execute_result"
    }
   ],
   "source": [
    "df_1000_sample.head()"
   ]
  },
  {
   "cell_type": "code",
   "execution_count": 9,
   "id": "0464cbc2",
   "metadata": {},
   "outputs": [],
   "source": [
    "df_1000_sample.to_csv(\"extracted_amounts_sample_1000_pre_normalization.csv\")"
   ]
  },
  {
   "cell_type": "code",
   "execution_count": 76,
   "id": "da745252",
   "metadata": {},
   "outputs": [
    {
     "data": {
      "text/plain": [
       "Index(['NAID', 'naraURL', 'title', 'pageObjectId', 'pageURL', 'file_cat',\n",
       "       'llm_extracted_pension_amount', 'llm_extracted_pension_amount_dollars'],\n",
       "      dtype='object')"
      ]
     },
     "execution_count": 76,
     "metadata": {},
     "output_type": "execute_result"
    }
   ],
   "source": [
    "df_1000_sample.columns"
   ]
  },
  {
   "cell_type": "code",
   "execution_count": 77,
   "id": "67c33672",
   "metadata": {},
   "outputs": [
    {
     "data": {
      "text/plain": [
       "Index(['NAID', 'naraURL', 'title', 'pageObjectId', 'pageURL', 'file_cat',\n",
       "       'priority_text'],\n",
       "      dtype='object')"
      ]
     },
     "execution_count": 77,
     "metadata": {},
     "output_type": "execute_result"
    }
   ],
   "source": [
    "df.columns"
   ]
  },
  {
   "cell_type": "code",
   "execution_count": 78,
   "id": "1c90fe5d",
   "metadata": {},
   "outputs": [],
   "source": [
    "# Ensure both dataframes have the same data types for the join columns\n",
    "df['pageObjectId'] = df['pageObjectId'].astype(str)\n",
    "df['NAID'] = df['NAID'].astype(str)\n",
    "df_1000_sample['pageObjectId'] = df_1000_sample['pageObjectId'].astype(str)\n",
    "df_1000_sample['NAID'] = df_1000_sample['NAID'].astype(str)\n",
    "\n",
    "# Merge on both pageObjectId and NAID\n",
    "df_merged = df.merge(\n",
    "    df_1000_sample[['pageObjectId', 'NAID', 'llm_extracted_pension_amount', 'llm_extracted_pension_amount_dollars']], \n",
    "    on=['pageObjectId', 'NAID'], \n",
    "    how='left'\n",
    ")"
   ]
  },
  {
   "cell_type": "code",
   "execution_count": 79,
   "id": "49df6571",
   "metadata": {},
   "outputs": [
    {
     "data": {
      "text/plain": [
       "(201523, 7)"
      ]
     },
     "execution_count": 79,
     "metadata": {},
     "output_type": "execute_result"
    }
   ],
   "source": [
    "df.shape"
   ]
  },
  {
   "cell_type": "code",
   "execution_count": 80,
   "id": "aad323ee",
   "metadata": {},
   "outputs": [
    {
     "data": {
      "text/plain": [
       "(201523, 9)"
      ]
     },
     "execution_count": 80,
     "metadata": {},
     "output_type": "execute_result"
    }
   ],
   "source": [
    "df_merged.shape"
   ]
  },
  {
   "cell_type": "code",
   "execution_count": 81,
   "id": "3037c783",
   "metadata": {},
   "outputs": [
    {
     "data": {
      "text/html": [
       "<div>\n",
       "<style scoped>\n",
       "    .dataframe tbody tr th:only-of-type {\n",
       "        vertical-align: middle;\n",
       "    }\n",
       "\n",
       "    .dataframe tbody tr th {\n",
       "        vertical-align: top;\n",
       "    }\n",
       "\n",
       "    .dataframe thead th {\n",
       "        text-align: right;\n",
       "    }\n",
       "</style>\n",
       "<table border=\"1\" class=\"dataframe\">\n",
       "  <thead>\n",
       "    <tr style=\"text-align: right;\">\n",
       "      <th></th>\n",
       "      <th>NAID</th>\n",
       "      <th>naraURL</th>\n",
       "      <th>title</th>\n",
       "      <th>pageObjectId</th>\n",
       "      <th>pageURL</th>\n",
       "      <th>file_cat</th>\n",
       "      <th>priority_text</th>\n",
       "      <th>llm_extracted_pension_amount</th>\n",
       "      <th>llm_extracted_pension_amount_dollars</th>\n",
       "    </tr>\n",
       "  </thead>\n",
       "  <tbody>\n",
       "    <tr>\n",
       "      <th>0</th>\n",
       "      <td>111769418</td>\n",
       "      <td>https://catalog.archives.gov/id/111769418</td>\n",
       "      <td>Revolutionary War Pension and Bounty Land Warr...</td>\n",
       "      <td>111769420</td>\n",
       "      <td>https://s3.amazonaws.com/NARAprodstorage/lz/mi...</td>\n",
       "      <td>soldier</td>\n",
       "      <td>1831\\nto\\nSchaled Tucker\\n1941\\nMassachusetts\\...</td>\n",
       "      <td>NaN</td>\n",
       "      <td>NaN</td>\n",
       "    </tr>\n",
       "    <tr>\n",
       "      <th>1</th>\n",
       "      <td>111769418</td>\n",
       "      <td>https://catalog.archives.gov/id/111769418</td>\n",
       "      <td>Revolutionary War Pension and Bounty Land Warr...</td>\n",
       "      <td>111769422</td>\n",
       "      <td>https://s3.amazonaws.com/NARAprodstorage/lz/mi...</td>\n",
       "      <td>soldier</td>\n",
       "      <td>ESSEX, ss.\\nCommonwealth of Massachusetts.\\nAt...</td>\n",
       "      <td>NaN</td>\n",
       "      <td>NaN</td>\n",
       "    </tr>\n",
       "    <tr>\n",
       "      <th>2</th>\n",
       "      <td>111769418</td>\n",
       "      <td>https://catalog.archives.gov/id/111769418</td>\n",
       "      <td>Revolutionary War Pension and Bounty Land Warr...</td>\n",
       "      <td>111769424</td>\n",
       "      <td>https://s3.amazonaws.com/NARAprodstorage/lz/mi...</td>\n",
       "      <td>soldier</td>\n",
       "      <td>and at the same time he produces to the Court ...</td>\n",
       "      <td>NaN</td>\n",
       "      <td>NaN</td>\n",
       "    </tr>\n",
       "    <tr>\n",
       "      <th>3</th>\n",
       "      <td>111769405</td>\n",
       "      <td>https://catalog.archives.gov/id/111769405</td>\n",
       "      <td>Revolutionary War Pension and Bounty Land Warr...</td>\n",
       "      <td>111769407</td>\n",
       "      <td>https://s3.amazonaws.com/NARAprodstorage/lz/mi...</td>\n",
       "      <td>soldier</td>\n",
       "      <td>Vermont 18.682\\n---\\nPeter Woodbury\\nof Windso...</td>\n",
       "      <td>NaN</td>\n",
       "      <td>NaN</td>\n",
       "    </tr>\n",
       "    <tr>\n",
       "      <th>4</th>\n",
       "      <td>111769387</td>\n",
       "      <td>https://catalog.archives.gov/id/111769387</td>\n",
       "      <td>Revolutionary War Pension and Bounty Land Warr...</td>\n",
       "      <td>111769390</td>\n",
       "      <td>https://s3.amazonaws.com/NARAprodstorage/lz/mi...</td>\n",
       "      <td>widow</td>\n",
       "      <td>Massachusetts 1,25\\nMary Woodbury\\nwidow of Na...</td>\n",
       "      <td>NaN</td>\n",
       "      <td>NaN</td>\n",
       "    </tr>\n",
       "  </tbody>\n",
       "</table>\n",
       "</div>"
      ],
      "text/plain": [
       "        NAID                                    naraURL  \\\n",
       "0  111769418  https://catalog.archives.gov/id/111769418   \n",
       "1  111769418  https://catalog.archives.gov/id/111769418   \n",
       "2  111769418  https://catalog.archives.gov/id/111769418   \n",
       "3  111769405  https://catalog.archives.gov/id/111769405   \n",
       "4  111769387  https://catalog.archives.gov/id/111769387   \n",
       "\n",
       "                                               title pageObjectId  \\\n",
       "0  Revolutionary War Pension and Bounty Land Warr...    111769420   \n",
       "1  Revolutionary War Pension and Bounty Land Warr...    111769422   \n",
       "2  Revolutionary War Pension and Bounty Land Warr...    111769424   \n",
       "3  Revolutionary War Pension and Bounty Land Warr...    111769407   \n",
       "4  Revolutionary War Pension and Bounty Land Warr...    111769390   \n",
       "\n",
       "                                             pageURL file_cat  \\\n",
       "0  https://s3.amazonaws.com/NARAprodstorage/lz/mi...  soldier   \n",
       "1  https://s3.amazonaws.com/NARAprodstorage/lz/mi...  soldier   \n",
       "2  https://s3.amazonaws.com/NARAprodstorage/lz/mi...  soldier   \n",
       "3  https://s3.amazonaws.com/NARAprodstorage/lz/mi...  soldier   \n",
       "4  https://s3.amazonaws.com/NARAprodstorage/lz/mi...    widow   \n",
       "\n",
       "                                       priority_text  \\\n",
       "0  1831\\nto\\nSchaled Tucker\\n1941\\nMassachusetts\\...   \n",
       "1  ESSEX, ss.\\nCommonwealth of Massachusetts.\\nAt...   \n",
       "2  and at the same time he produces to the Court ...   \n",
       "3  Vermont 18.682\\n---\\nPeter Woodbury\\nof Windso...   \n",
       "4  Massachusetts 1,25\\nMary Woodbury\\nwidow of Na...   \n",
       "\n",
       "  llm_extracted_pension_amount llm_extracted_pension_amount_dollars  \n",
       "0                          NaN                                  NaN  \n",
       "1                          NaN                                  NaN  \n",
       "2                          NaN                                  NaN  \n",
       "3                          NaN                                  NaN  \n",
       "4                          NaN                                  NaN  "
      ]
     },
     "execution_count": 81,
     "metadata": {},
     "output_type": "execute_result"
    }
   ],
   "source": [
    "df_merged.head()"
   ]
  },
  {
   "cell_type": "code",
   "execution_count": 82,
   "id": "aa3dfd54",
   "metadata": {},
   "outputs": [
    {
     "name": "stdout",
     "output_type": "stream",
     "text": [
      "893\n"
     ]
    }
   ],
   "source": [
    "print((df_merged['llm_extracted_pension_amount_dollars'] == True).sum())"
   ]
  },
  {
   "cell_type": "code",
   "execution_count": null,
   "id": "537ca346",
   "metadata": {},
   "outputs": [],
   "source": [
    "# Drop duplicates based on specific columns (excluding dict columns)\n",
    "df_merged = df_merged.drop_duplicates(subset=['pageObjectId', 'NAID', 'title', 'naraURL', 'llm_extracted_pension_amount_dollars'])"
   ]
  },
  {
   "cell_type": "code",
   "execution_count": 85,
   "id": "2b303fc3",
   "metadata": {},
   "outputs": [
    {
     "name": "stdout",
     "output_type": "stream",
     "text": [
      "872\n"
     ]
    }
   ],
   "source": [
    "print((df_merged['llm_extracted_pension_amount_dollars'] == True).sum())"
   ]
  },
  {
   "cell_type": "code",
   "execution_count": 86,
   "id": "1f95e0d9",
   "metadata": {},
   "outputs": [],
   "source": [
    "df_merged.to_parquet('filtered_pension_amounts_subset_with_llm_1000.parquet')"
   ]
  },
  {
   "cell_type": "code",
   "execution_count": null,
   "id": "d1a55cb3",
   "metadata": {},
   "outputs": [],
   "source": []
  }
 ],
 "metadata": {
  "kernelspec": {
   "display_name": "pension-files",
   "language": "python",
   "name": "python3"
  },
  "language_info": {
   "codemirror_mode": {
    "name": "ipython",
    "version": 3
   },
   "file_extension": ".py",
   "mimetype": "text/x-python",
   "name": "python",
   "nbconvert_exporter": "python",
   "pygments_lexer": "ipython3",
   "version": "3.13.7"
  }
 },
 "nbformat": 4,
 "nbformat_minor": 5
}
