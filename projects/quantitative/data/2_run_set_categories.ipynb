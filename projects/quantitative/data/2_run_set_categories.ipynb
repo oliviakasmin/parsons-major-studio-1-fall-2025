{
 "cells": [
  {
   "cell_type": "markdown",
   "id": "ec6e6ae4",
   "metadata": {},
   "source": [
    "## Set file categories\n",
    "\n",
    "##### functions designed for \"df_grouped_NAID_sorted_title.parquet\""
   ]
  },
  {
   "cell_type": "code",
   "execution_count": 1,
   "id": "e643bbbc",
   "metadata": {},
   "outputs": [],
   "source": [
    "import pandas as pd\n",
    "df = pd.read_parquet('df_grouped_NAID_sorted_title.parquet')"
   ]
  },
  {
   "cell_type": "code",
   "execution_count": 2,
   "id": "62a38290",
   "metadata": {},
   "outputs": [],
   "source": [
    "from set_categories import run_categories, category_dict, clean_title, set_application_categories, set_categories"
   ]
  },
  {
   "cell_type": "code",
   "execution_count": 3,
   "id": "7c4f7f59",
   "metadata": {},
   "outputs": [],
   "source": [
    "df_categories = run_categories(df)"
   ]
  },
  {
   "cell_type": "code",
   "execution_count": 4,
   "id": "f0d944bd",
   "metadata": {},
   "outputs": [],
   "source": [
    "# save to parquet\n",
    "df_categories.to_parquet('df_grouped_NAID_sorted_title_categories.parquet', index=False)"
   ]
  },
  {
   "cell_type": "code",
   "execution_count": 5,
   "id": "7c5836a8",
   "metadata": {},
   "outputs": [
    {
     "data": {
      "text/plain": [
       "'File type distribution:'"
      ]
     },
     "metadata": {},
     "output_type": "display_data"
    },
    {
     "data": {
      "text/plain": [
       "file_type\n",
       "revolutionary war pension and bounty land warrant application file    78604\n",
       "microfilm target sheet                                                  270\n",
       "other                                                                    27\n",
       "family record                                                            25\n",
       "Name: count, dtype: int64"
      ]
     },
     "metadata": {},
     "output_type": "display_data"
    }
   ],
   "source": [
    "# Check results\n",
    "display(\"File type distribution:\")\n",
    "display(df_categories['file_type'].value_counts())"
   ]
  },
  {
   "cell_type": "code",
   "execution_count": 6,
   "id": "d85687b7",
   "metadata": {},
   "outputs": [
    {
     "data": {
      "text/plain": [
       "'File cat distribution:'"
      ]
     },
     "metadata": {},
     "output_type": "display_data"
    },
    {
     "data": {
      "text/plain": [
       "file_cat\n",
       "soldier                                            34957\n",
       "widow                                              24252\n",
       "rejected                                           10745\n",
       "bounty land warrant                                 3060\n",
       "unknown                                             2179\n",
       "rejected||soldier                                   1411\n",
       "rejected||widow                                      830\n",
       "soldier||widow                                       475\n",
       "non_application                                      322\n",
       "nara archival administrative sheets                  303\n",
       "bounty land warrant||soldier                         166\n",
       "bounty land warrant||rejected                        105\n",
       "bounty land warrant||widow                            34\n",
       "old war                                               17\n",
       "old war||widow                                        12\n",
       "old war||rejected||widow                              12\n",
       "N A Acc                                                9\n",
       "old war||soldier                                       7\n",
       "old war||rejected                                      5\n",
       "rejected||soldier||widow                               5\n",
       "old war||rejected||soldier                             4\n",
       "N A Acc||soldier                                       3\n",
       "old war||soldier||widow                                2\n",
       "old war||rejected||soldier||widow                      2\n",
       "bounty land warrant||soldier||widow                    2\n",
       "bounty land warrant||rejected||soldier                 2\n",
       "bounty land warrant||old war||rejected||soldier        1\n",
       "bounty land warrant||old war||rejected||widow          1\n",
       "N A Acc||widow                                         1\n",
       "bounty land warrant||rejected||widow                   1\n",
       "bounty land warrant||old war||soldier                  1\n",
       "Name: count, dtype: int64"
      ]
     },
     "metadata": {},
     "output_type": "display_data"
    }
   ],
   "source": [
    "display(\"File cat distribution:\")\n",
    "display(df_categories['file_cat'].value_counts())"
   ]
  },
  {
   "cell_type": "code",
   "execution_count": 7,
   "id": "a6c0839f",
   "metadata": {},
   "outputs": [],
   "source": [
    "# df_categories.head()"
   ]
  },
  {
   "cell_type": "code",
   "execution_count": null,
   "id": "4e796483",
   "metadata": {},
   "outputs": [],
   "source": []
  }
 ],
 "metadata": {
  "kernelspec": {
   "display_name": "pension-files",
   "language": "python",
   "name": "python3"
  },
  "language_info": {
   "codemirror_mode": {
    "name": "ipython",
    "version": 3
   },
   "file_extension": ".py",
   "mimetype": "text/x-python",
   "name": "python",
   "nbconvert_exporter": "python",
   "pygments_lexer": "ipython3",
   "version": "3.13.7"
  }
 },
 "nbformat": 4,
 "nbformat_minor": 5
}
