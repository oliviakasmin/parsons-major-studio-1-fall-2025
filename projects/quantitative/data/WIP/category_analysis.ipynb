{
 "cells": [
  {
   "cell_type": "markdown",
   "id": "e558b5da",
   "metadata": {},
   "source": [
    "### Analyze categories of the overall dataset by title, and divide the pension application files into pre-determined categories"
   ]
  },
  {
   "cell_type": "code",
   "execution_count": 46,
   "id": "b55fef2f",
   "metadata": {},
   "outputs": [],
   "source": [
    "import pandas as pd\n",
    "import re\n"
   ]
  },
  {
   "cell_type": "code",
   "execution_count": 47,
   "id": "a36ba787",
   "metadata": {},
   "outputs": [],
   "source": [
    "df = pd.read_parquet('df_grouped_NAID_sorted_title.parquet')"
   ]
  },
  {
   "cell_type": "markdown",
   "id": "5920a4be",
   "metadata": {},
   "source": [
    "##### Look at first x characters of titles to see groupings "
   ]
  },
  {
   "cell_type": "code",
   "execution_count": 48,
   "id": "139edf31",
   "metadata": {},
   "outputs": [
    {
     "data": {
      "text/plain": [
       "title_prefix\n",
       "revolutionary war pen    78604\n",
       "microfilm target shee      270\n",
       "illustrated family re       24\n",
       "copy of the affidavit        4\n",
       "discharge certificate        4\n",
       "pension affidavit of         3\n",
       "newcomb family record        1\n",
       "statement of john cro        1\n",
       "sarah benjamin's eyew        1\n",
       "sampler of chester go        1\n",
       "sampler for the famil        1\n",
       "petition of william s        1\n",
       "pension application o        1\n",
       "birth and baptismal r        1\n",
       "copy of a letter to h        1\n",
       "fraktur of the family        1\n",
       "flying camp rations b        1\n",
       "diary of levi stedman        1\n",
       "daniel kimball's revo        1\n",
       "copy of the testimony        1\n",
       "copy of the statement        1\n",
       "copy of the commissio        1\n",
       "statement regarding p        1\n",
       "dtype: int64"
      ]
     },
     "execution_count": 48,
     "metadata": {},
     "output_type": "execute_result"
    }
   ],
   "source": [
    "df['title_prefix'] = df['title'].str[:21].str.lower()\n",
    "df.groupby('title_prefix').size().sort_values(ascending=False)"
   ]
  },
  {
   "cell_type": "code",
   "execution_count": 49,
   "id": "e2632dba",
   "metadata": {},
   "outputs": [
    {
     "data": {
      "text/plain": [
       "title_prefix\n",
       "revolutionary war pension and bounty land warrant application file    78604\n",
       "microfilm target sheet                                                  270\n",
       "illustrated family record (fraktur) found in revolutionary war pen       20\n",
       "pension affidavit of prince vaughan                                       1\n",
       "illustrated family record [fraktur] of john jenkins                       1\n",
       "illustrated family record [fraktur] of john mersereau                     1\n",
       "newcomb family record                                                     1\n",
       "pension affidavit of cato greene                                          1\n",
       "pension affidavit of cuff greene                                          1\n",
       "birth and baptismal record of dorothea garecht sell                       1\n",
       "illustrated family record (fraktur) for ezekiel root, connecticut         1\n",
       "petition of william scott, late a major in the new hampshire line,        1\n",
       "sampler for the family of peter and mary booth                            1\n",
       "sampler of chester goodale                                                1\n",
       "sarah benjamin's eyewitness account of the surrender at yorktown          1\n",
       "statement of john crosley, son of prince crosley a formerly enslav        1\n",
       "pension application of prince mclellan                                    1\n",
       "illustrated family record                                                 1\n",
       "copy of a letter to henry dearborn, secretary of war, from adam co        1\n",
       "copy of the testimony of asa c. barney and beroth bullard, surgeon        1\n",
       "copy of the affidavit of david johnson of hadley, new york, recoun        1\n",
       "copy of the affidavit of joseph henderson of western, new york, re        1\n",
       "copy of the affidavit of samuel cherry of paris, new york, recount        1\n",
       "copy of the affidavit of william scott of greenfield, new york, re        1\n",
       "copy of the commission issued to adam comstock by united states di        1\n",
       "copy of the statement by adam comstock certifying the credibility         1\n",
       "daniel kimball's revolutionary war journal of the march to quebec         1\n",
       "fraktur of the family of peter hunt                                       1\n",
       "diary of levi stedman of connecticut                                      1\n",
       "discharge certificate for abner poland                                    1\n",
       "discharge certificate for private cato greene from military servic        1\n",
       "discharge certificate of cuff greene                                      1\n",
       "discharge certificate of prince vaughan                                   1\n",
       "flying camp rations broadside                                             1\n",
       "statement regarding prince mclellan                                       1\n",
       "dtype: int64"
      ]
     },
     "execution_count": 49,
     "metadata": {},
     "output_type": "execute_result"
    }
   ],
   "source": [
    "df['title_prefix'] = df['title'].str.replace('-', ' ')\n",
    "df['title_prefix'] = df['title_prefix'].str[:66].str.lower()\n",
    "df.groupby('title_prefix').size().sort_values(ascending=False)"
   ]
  },
  {
   "cell_type": "code",
   "execution_count": 50,
   "id": "64888385",
   "metadata": {},
   "outputs": [],
   "source": [
    "application_prefix = 'revolutionary war pension and bounty land warrant application file' \n",
    "family_record = 'family record' \n",
    "microfilm_target_sheet = 'microfilm target sheet'\n",
    "other = 'other'"
   ]
  },
  {
   "cell_type": "code",
   "execution_count": 51,
   "id": "c04e8681",
   "metadata": {},
   "outputs": [],
   "source": [
    "df['file_type'] = ''"
   ]
  },
  {
   "cell_type": "markdown",
   "id": "00c39132",
   "metadata": {},
   "source": [
    "### Filter data by title that starts with 'revolutionary war pension and bounty land warrant application file'"
   ]
  },
  {
   "cell_type": "code",
   "execution_count": 66,
   "id": "7a5e741d",
   "metadata": {},
   "outputs": [],
   "source": [
    "df_filtered = df.copy()"
   ]
  },
  {
   "cell_type": "code",
   "execution_count": 67,
   "id": "ac4df2db",
   "metadata": {},
   "outputs": [],
   "source": [
    "application_prefix = 'revolutionary war pension and bounty land warrant application file'\n",
    "\n",
    "df_filtered['title_modified'] = (df_filtered['title']\n",
    "    .str.replace('-', ' ')\n",
    "    .str.lower()\n",
    "    .str.replace(application_prefix + 's', application_prefix, case=False, regex=False)\n",
    ")\n",
    "\n",
    "# filter by title starts with application_prefix\n",
    "df_filtered = df_filtered[df_filtered['title_modified'].str.startswith(application_prefix.lower())]"
   ]
  },
  {
   "cell_type": "code",
   "execution_count": 68,
   "id": "dfeedcd8",
   "metadata": {},
   "outputs": [
    {
     "data": {
      "text/plain": [
       "(78604, 14)"
      ]
     },
     "execution_count": 68,
     "metadata": {},
     "output_type": "execute_result"
    }
   ],
   "source": [
    "df_filtered.shape"
   ]
  },
  {
   "cell_type": "markdown",
   "id": "6d89ffdd",
   "metadata": {},
   "source": [
    "### Data cleaning & sort into categories"
   ]
  },
  {
   "cell_type": "code",
   "execution_count": 69,
   "id": "8c6422d0",
   "metadata": {},
   "outputs": [],
   "source": [
    "df_filtered['title_modified'] = df_filtered['title_modified'].str.replace(application_prefix, '', regex=True)\n",
    "\n",
    "# short hand for registration and other words don't need\n",
    "words = [\"for\", \"file\", \"see\"] #\"reg\", \"rej\", \"red\", \n",
    "for word in words:\n",
    "    df_filtered['title_modified'] = df_filtered['title_modified'].str.replace(word, '', regex=False)\n",
    "\n",
    "# various punctuation\n",
    "punctuation = [',', '.', '!', '?', ':', ';', '-', '_', '(', ')', '[', ']', '{', '}', '\\'', '\\\"', '/', '\\\\', '|', '`', '~', '=', '+', '*', '#', '@', '%', '$', '^', '&']\n",
    "\n",
    "for punct in punctuation:\n",
    "    df_filtered['title_modified'] = df_filtered['title_modified'].str.replace(punct, ' ', regex=False)\n",
    "\n",
    "# Replace multiple consecutive spaces with a single space\n",
    "df_filtered['title_modified'] = df_filtered['title_modified'].str.replace(' +', ' ', regex=True)"
   ]
  },
  {
   "cell_type": "code",
   "execution_count": 70,
   "id": "06bafb72",
   "metadata": {},
   "outputs": [
    {
     "data": {
      "text/plain": [
       "title_modified\n",
       " s     36096\n",
       " w     25512\n",
       " r     11130\n",
       " b      3220\n",
       "        1446\n",
       "       ...  \n",
       " mc        1\n",
       " ba        1\n",
       " aa        1\n",
       " p         1\n",
       " m         1\n",
       "Length: 69, dtype: int64"
      ]
     },
     "execution_count": 70,
     "metadata": {},
     "output_type": "execute_result"
    }
   ],
   "source": [
    "# explore first 3 characters of titles\n",
    "#  df_filtered.groupby(df_filtered['title'].str[len(application_prefix):len(application_prefix) + 3]).size().sort_values(ascending=False)\n",
    "\n",
    "# pd.set_option('display.max_rows', 100)\n",
    "df_filtered.groupby(df_filtered['title_modified'].str[:3]).size().sort_values(ascending=False)"
   ]
  },
  {
   "cell_type": "code",
   "execution_count": 71,
   "id": "3dc0b5d1",
   "metadata": {},
   "outputs": [
    {
     "data": {
      "text/html": [
       "<div>\n",
       "<style scoped>\n",
       "    .dataframe tbody tr th:only-of-type {\n",
       "        vertical-align: middle;\n",
       "    }\n",
       "\n",
       "    .dataframe tbody tr th {\n",
       "        vertical-align: top;\n",
       "    }\n",
       "\n",
       "    .dataframe thead th {\n",
       "        text-align: right;\n",
       "    }\n",
       "</style>\n",
       "<table border=\"1\" class=\"dataframe\">\n",
       "  <thead>\n",
       "    <tr style=\"text-align: right;\">\n",
       "      <th></th>\n",
       "      <th>NAID</th>\n",
       "      <th>naraURL</th>\n",
       "      <th>title</th>\n",
       "      <th>logicalDate</th>\n",
       "      <th>pdfObjectID</th>\n",
       "      <th>pdfURL</th>\n",
       "      <th>pageObjectId</th>\n",
       "      <th>pageURL</th>\n",
       "      <th>pageImageType</th>\n",
       "      <th>ocrText</th>\n",
       "      <th>transcriptionText</th>\n",
       "      <th>title_prefix</th>\n",
       "      <th>file_type</th>\n",
       "      <th>title_modified</th>\n",
       "    </tr>\n",
       "  </thead>\n",
       "  <tbody>\n",
       "    <tr>\n",
       "      <th>9611</th>\n",
       "      <td>144028666</td>\n",
       "      <td>https://catalog.archives.gov/id/144028666</td>\n",
       "      <td>Revolutionary War Pension and Bounty Land Warr...</td>\n",
       "      <td></td>\n",
       "      <td></td>\n",
       "      <td></td>\n",
       "      <td>144028667||144028668||144028669||144028670||14...</td>\n",
       "      <td>https://s3.amazonaws.com/NARAprodstorage/lz/mi...</td>\n",
       "      <td>Image (JPG)</td>\n",
       "      <td>NATIONAL ARCHIVES MICROFILM PUBLICATIONS\\nREVO...</td>\n",
       "      <td>[HEADING]  NATIONAL ARCHIVES MICROFILM PUBLICA...</td>\n",
       "      <td>revolutionary war pension and bounty land warr...</td>\n",
       "      <td></td>\n",
       "      <td>microfilm pamphlet</td>\n",
       "    </tr>\n",
       "  </tbody>\n",
       "</table>\n",
       "</div>"
      ],
      "text/plain": [
       "           NAID                                    naraURL  \\\n",
       "9611  144028666  https://catalog.archives.gov/id/144028666   \n",
       "\n",
       "                                                  title logicalDate  \\\n",
       "9611  Revolutionary War Pension and Bounty Land Warr...               \n",
       "\n",
       "     pdfObjectID pdfURL                                       pageObjectId  \\\n",
       "9611                     144028667||144028668||144028669||144028670||14...   \n",
       "\n",
       "                                                pageURL pageImageType  \\\n",
       "9611  https://s3.amazonaws.com/NARAprodstorage/lz/mi...   Image (JPG)   \n",
       "\n",
       "                                                ocrText  \\\n",
       "9611  NATIONAL ARCHIVES MICROFILM PUBLICATIONS\\nREVO...   \n",
       "\n",
       "                                      transcriptionText  \\\n",
       "9611  [HEADING]  NATIONAL ARCHIVES MICROFILM PUBLICA...   \n",
       "\n",
       "                                           title_prefix file_type  \\\n",
       "9611  revolutionary war pension and bounty land warr...             \n",
       "\n",
       "           title_modified  \n",
       "9611   microfilm pamphlet  "
      ]
     },
     "execution_count": 71,
     "metadata": {},
     "output_type": "execute_result"
    }
   ],
   "source": [
    "# investigate groupings\n",
    "\n",
    "# df_filtered.groupby(df_filtered['title'].str[len(application_prefix):len(application_prefix) + 3]).size().sort_values(ascending=False)\n",
    "\n",
    "# df_filtered['title'].str.contains(f'{application_prefix}  bl ').sum()\n",
    "\n",
    "# Show both original and modified titles\n",
    "# mask = df_filtered['title'].str.contains(' n ', na=False, regex=False)\n",
    "# mask = df_filtered['title_modified'].str.contains(' s ', na=False, regex=False)\n",
    "# df_filtered[mask].assign(modified_title=df_filtered[mask]['title_modified'].str.replace(application_prefix + ' ', '', regex=False))[['title_modified', 'modified_title']]\n",
    "\n",
    "# df_filtered['title_modified'].str.startswith(' illegible ').sum()\n",
    "\n",
    "# (df_filtered['title_modified'].str.strip() == '').sum()\n",
    "\n",
    "df_filtered[df_filtered['title_modified'].str.contains('microfilm pamphlet')]\n"
   ]
  },
  {
   "cell_type": "markdown",
   "id": "bb2e940d",
   "metadata": {},
   "source": [
    "#### Add file_cat column and categorize based on dictionary\n",
    "\n",
    "using \"unkown\" to group titles with no other info, that have \"blank\" and that have \"illegible\""
   ]
  },
  {
   "cell_type": "code",
   "execution_count": 72,
   "id": "8493d773",
   "metadata": {},
   "outputs": [],
   "source": [
    "# Initialize file_cat column\n",
    "df_filtered['file_cat'] = ''"
   ]
  },
  {
   "cell_type": "code",
   "execution_count": 73,
   "id": "c3a788f3",
   "metadata": {},
   "outputs": [],
   "source": [
    "# Set file_cat to \"unknown\" for empty or whitespace-only title_modified\n",
    "mask = df_filtered['title_modified'].str.strip() == ''\n",
    "df_filtered.loc[mask, 'file_cat'] = 'unknown'"
   ]
  },
  {
   "cell_type": "code",
   "execution_count": 74,
   "id": "f5522106",
   "metadata": {},
   "outputs": [],
   "source": [
    "category_dict = {\n",
    "    \"soldier\": ['s', 'sur', 't'], # soldier (survived)\n",
    "    'rejected': ['r', 'k', 'p', 'rej', 'rejected'], # rejected\n",
    "    \"widow\": ['w', 'wid'], # widow\n",
    "    \"bounty land warrant\": ['b', 'bl', 'wt', 'b l wt', 'bounty land', 'blwt'], # bounty land warrant\n",
    "    \"old war\": ['old act', 'old war', 'o w', 'ow'], # old war\n",
    "    \"nara archival administrative sheets\": [\"nara archival administrative sheets\"]\n",
    "}\n",
    "\n",
    "# if no other category is found and one of these is found, set to unknown\n",
    "nara_accession = ['n a acc no', 'acc no', 'no'] # National Archives Accession\n",
    "unknown_group = [\"blank\", \"illegible\", \"ctf\"] #(ctf = certificate)"
   ]
  },
  {
   "cell_type": "code",
   "execution_count": 75,
   "id": "7929b5c0",
   "metadata": {},
   "outputs": [],
   "source": [
    "# Initialize file_cat as empty string\n",
    "df_filtered['file_cat'] = ''\n",
    "\n",
    "# Multiple category method - append categories (allowing duplicates during iteration)\n",
    "for key, values in category_dict.items():\n",
    "    for value in values:\n",
    "        if value:\n",
    "            pattern = f' {value} '\n",
    "            mask = df_filtered['title_modified'].str.contains(pattern, na=False)\n",
    "            # Append category to existing file_cat (allowing duplicates)\n",
    "            df_filtered.loc[mask, 'file_cat'] = df_filtered.loc[mask, 'file_cat'] + f'{key}||'\n",
    "\n",
    "# Clean up trailing separators, remove duplicates, and sort alphabetically\n",
    "df_filtered['file_cat'] = df_filtered['file_cat'].str.rstrip('||').apply(\n",
    "    lambda x: '||'.join(sorted(list(set(x.split('||'))))) if x else x\n",
    ")"
   ]
  },
  {
   "cell_type": "code",
   "execution_count": 76,
   "id": "4f898362",
   "metadata": {},
   "outputs": [],
   "source": [
    "# Combine both groups\n",
    "all_unknown_values = unknown_group + nara_accession  # Now both are lists\n",
    "\n",
    "# If df_filtered['file_cat'] is empty and contains one of the values, set to unknown\n",
    "mask = df_filtered['file_cat'] == ''\n",
    "for value in all_unknown_values:\n",
    "    value_mask = df_filtered['title_modified'].str.contains(value, case=False, na=False, regex=False)\n",
    "    df_filtered.loc[mask & value_mask, 'file_cat'] = 'unknown'"
   ]
  },
  {
   "cell_type": "code",
   "execution_count": 77,
   "id": "dd0b2986",
   "metadata": {},
   "outputs": [],
   "source": [
    "# and if file_cat is still empty (the rest appear to be names), then also set to unknown\n",
    "df_filtered.loc[mask & ~df_filtered['file_cat'].isin(category_dict.keys()), 'file_cat'] = 'unknown'\n"
   ]
  },
  {
   "cell_type": "code",
   "execution_count": 64,
   "id": "74c8c296",
   "metadata": {},
   "outputs": [],
   "source": [
    "# Show first 10 title_modified strings where file_cat is empty\n",
    "# df_filtered[df_filtered['file_cat'] == '']['title_modified'].head(100)"
   ]
  },
  {
   "cell_type": "code",
   "execution_count": 78,
   "id": "81974db0",
   "metadata": {},
   "outputs": [
    {
     "data": {
      "text/plain": [
       "file_cat\n",
       "soldier                                            34960\n",
       "widow                                              24253\n",
       "rejected                                           10745\n",
       "bounty land warrant                                 3060\n",
       "unknown                                             2491\n",
       "rejected||soldier                                   1411\n",
       "rejected||widow                                      830\n",
       "soldier||widow                                       475\n",
       "bounty land warrant||soldier                         166\n",
       "bounty land warrant||rejected                        105\n",
       "bounty land warrant||widow                            34\n",
       "old war                                               17\n",
       "old war||rejected||widow                              12\n",
       "old war||widow                                        12\n",
       "old war||soldier                                       7\n",
       "rejected||soldier||widow                               5\n",
       "old war||rejected                                      5\n",
       "old war||rejected||soldier                             4\n",
       "bounty land warrant||rejected||soldier                 2\n",
       "old war||soldier||widow                                2\n",
       "bounty land warrant||soldier||widow                    2\n",
       "old war||rejected||soldier||widow                      2\n",
       "bounty land warrant||old war||rejected||soldier        1\n",
       "bounty land warrant||old war||soldier                  1\n",
       "bounty land warrant||old war||rejected||widow          1\n",
       "bounty land warrant||rejected||widow                   1\n",
       "dtype: int64"
      ]
     },
     "execution_count": 78,
     "metadata": {},
     "output_type": "execute_result"
    }
   ],
   "source": [
    "df_filtered.groupby(df_filtered['file_cat']).size().sort_values(ascending=False)"
   ]
  },
  {
   "cell_type": "code",
   "execution_count": 402,
   "id": "5e6043cb",
   "metadata": {},
   "outputs": [
    {
     "data": {
      "text/plain": [
       "file_cat\n",
       "soldier                                            34960\n",
       "widow                                              24253\n",
       "rejected                                           10745\n",
       "bounty land warrant                                 3060\n",
       "unknown                                             2188\n",
       "rejected||soldier                                   1411\n",
       "rejected||widow                                      830\n",
       "soldier||widow                                       475\n",
       "nara archival administrative sheets                  303\n",
       "bounty land warrant||soldier                         166\n",
       "bounty land warrant||rejected                        105\n",
       "bounty land warrant||widow                            34\n",
       "old war                                               17\n",
       "old war||widow                                        12\n",
       "old war||rejected||widow                              12\n",
       "old war||soldier                                       7\n",
       "rejected||soldier||widow                               5\n",
       "old war||rejected                                      5\n",
       "old war||rejected||soldier                             4\n",
       "bounty land warrant||rejected||soldier                 2\n",
       "old war||soldier||widow                                2\n",
       "old war||rejected||soldier||widow                      2\n",
       "bounty land warrant||soldier||widow                    2\n",
       "bounty land warrant||old war||soldier                  1\n",
       "bounty land warrant||old war||rejected||soldier        1\n",
       "bounty land warrant||old war||rejected||widow          1\n",
       "bounty land warrant||rejected||widow                   1\n",
       "dtype: int64"
      ]
     },
     "execution_count": 402,
     "metadata": {},
     "output_type": "execute_result"
    }
   ],
   "source": [
    "df_filtered.groupby(df_filtered['file_cat']).size().sort_values(ascending=False)"
   ]
  },
  {
   "cell_type": "code",
   "execution_count": null,
   "id": "34f86946",
   "metadata": {},
   "outputs": [],
   "source": [
    "# deal with microfilm pamphlet"
   ]
  },
  {
   "cell_type": "code",
   "execution_count": 423,
   "id": "b88e4d5c",
   "metadata": {},
   "outputs": [
    {
     "name": "stdout",
     "output_type": "stream",
     "text": [
      "Checking each string individually:\n",
      "Application prefix matches: 78624\n",
      "Family record matches: 25\n",
      "Microfilm target sheet matches: 270\n",
      "\n",
      "Unique values in title_prefix (first 20):\n",
      "title_prefix\n",
      "Revolutionary War Pension and Bounty Land Warrant Application File                                                      1446\n",
      "Revolutionary War Pension and Bounty Land Warrant Application Files   NARA Archival Administrative Sheets                303\n",
      "Microfilm target sheet                                                                                                   270\n",
      "Revolutionary War Pension and Bounty Land Warrant Application File [Blank], for [Blank] [Blank], [Blank]                  10\n",
      "Revolutionary War Pension and Bounty Land Warrant Application File [ILLEGIBLE], [ILLEGIBLE] [ILLEGIBLE], [ILLEGIBLE]       8\n",
      "Revolutionary War Pension and Bounty Land Warrant Application File S. 46,466, for Benoni Pen, New Jersey                   2\n",
      "Revolutionary War Pension and Bounty Land Warrant Application File R. 11,299, William Welch, Conn.                         2\n",
      "Revolutionary War Pension and Bounty Land Warrant Application File W. 21790, for William Mc Casland, Pennsylvania          2\n",
      "Revolutionary War Pension and Bounty Land Warrant Application File S. 34,389, Joshua Hackett, New Jersey                   2\n",
      "Revolutionary War Pension and Bounty Land Warrant Application File W. 25928, William Welch, Mass. N. H.                    2\n",
      "Revolutionary War Pension and Bounty Land Warrant Application File S. 4197, for John Mc Casland, Pennsylvania              2\n",
      "Revolutionary War Pension and Bounty Land Warrant Application File S. 23607, Joseph Dunton, Mass.                          2\n",
      "Revolutionary War Pension and Bounty Land Warrant Application File R. 6,772, for Rachel Mc Chisick, Virginia               2\n",
      "Revolutionary War Pension and Bounty Land Warrant Application File S. 5751, for Andrew Mc Causland, Virginia               2\n",
      "Revolutionary War Pension and Bounty Land Warrant Application File S. 34,781, Levi Dunton, Mass.                           2\n",
      "Revolutionary War Pension and Bounty Land Warrant Application File S. 38440, for George Thomas, Virginia                   2\n",
      "Revolutionary War Pension and Bounty Land Warrant Application File S. 38433, for Henry Thomas, Virginia                    2\n",
      "Revolutionary War Pension and Bounty Land Warrant Application File S. 40,132, for John Mc Cay, Maryland                    2\n",
      "Revolutionary War Pension and Bounty Land Warrant Application File W. 17121, for Mathew Mc Cauley, North Carolina          2\n",
      "Revolutionary War Pension and Bounty Land Warrant Application File W. 10010, John Le Vacher De Vanbrun, Md.                2\n",
      "Name: count, dtype: int64\n"
     ]
    }
   ],
   "source": [
    "# Debug: Check what strings are actually being found\n",
    "application_prefix = 'revolutionary war pension and bounty land warrant application file' \n",
    "family_record = 'family record' \n",
    "microfilm_target_sheet = 'microfilm target sheet'\n",
    "\n",
    "print(\"Checking each string individually:\")\n",
    "print(f\"Application prefix matches: {df['title_prefix'].str.contains(application_prefix, case=False, na=False).sum()}\")\n",
    "print(f\"Family record matches: {df['title_prefix'].str.contains(family_record, case=False, na=False).sum()}\")\n",
    "print(f\"Microfilm target sheet matches: {df['title_prefix'].str.contains(microfilm_target_sheet, case=False, na=False).sum()}\")\n",
    "\n",
    "# Check what unique values are in title_prefix\n",
    "print(\"\\nUnique values in title_prefix (first 20):\")\n",
    "print(df['title_prefix'].value_counts().head(20))"
   ]
  },
  {
   "cell_type": "code",
   "execution_count": 425,
   "id": "5b9958df",
   "metadata": {},
   "outputs": [
    {
     "name": "stdout",
     "output_type": "stream",
     "text": [
      "Family record only (not in application prefix): 5\n",
      "Microfilm target sheet only (not in application prefix): 270\n",
      "\n",
      "Examples of family_record matches:\n",
      "20220                            Illustrated Family Record\n",
      "39759    Illustrated Family Record (Fraktur) Found in R...\n",
      "39760    Illustrated Family Record (Fraktur) Found in R...\n",
      "39761    Illustrated Family Record (Fraktur) Found in R...\n",
      "39762    Illustrated Family Record (Fraktur) Found in R...\n",
      "Name: title_prefix, dtype: object\n",
      "\n",
      "Examples of microfilm_target_sheet matches:\n",
      "3413    Microfilm target sheet\n",
      "3444    Microfilm target sheet\n",
      "3474    Microfilm target sheet\n",
      "3503    Microfilm target sheet\n",
      "3540    Microfilm target sheet\n",
      "Name: title_prefix, dtype: object\n"
     ]
    }
   ],
   "source": [
    "# Check if family_record and microfilm_target_sheet are independent or part of application_prefix\n",
    "family_record = 'family record'\n",
    "microfilm_target_sheet = 'microfilm target sheet'\n",
    "application_prefix = 'revolutionary war pension and bounty land warrant application file'\n",
    "\n",
    "# Check for rows that contain family_record but NOT application_prefix\n",
    "family_only = df['title_prefix'].str.contains(family_record, case=False, na=False) & ~df['title_prefix'].str.contains(application_prefix, case=False, na=False)\n",
    "print(f\"Family record only (not in application prefix): {family_only.sum()}\")\n",
    "\n",
    "# Check for rows that contain microfilm_target_sheet but NOT application_prefix  \n",
    "microfilm_only = df['title_prefix'].str.contains(microfilm_target_sheet, case=False, na=False) & ~df['title_prefix'].str.contains(application_prefix, case=False, na=False)\n",
    "print(f\"Microfilm target sheet only (not in application prefix): {microfilm_only.sum()}\")\n",
    "\n",
    "# Show some examples\n",
    "print(\"\\nExamples of family_record matches:\")\n",
    "print(df[df['title_prefix'].str.contains(family_record, case=False, na=False)]['title_prefix'].head())\n",
    "\n",
    "print(\"\\nExamples of microfilm_target_sheet matches:\")\n",
    "print(df[df['title_prefix'].str.contains(microfilm_target_sheet, case=False, na=False)]['title_prefix'].head())"
   ]
  },
  {
   "cell_type": "markdown",
   "id": "0eec0585",
   "metadata": {},
   "source": [
    "## Import function from set_categories developed from testing above"
   ]
  },
  {
   "cell_type": "code",
   "execution_count": 1,
   "id": "a9f13ecc",
   "metadata": {},
   "outputs": [
    {
     "name": "stdout",
     "output_type": "stream",
     "text": [
      "File type distribution:\n",
      "file_type\n",
      "revolutionary war pension and bounty land warrant application file    78604\n",
      "microfilm target sheet                                                  270\n",
      "other                                                                    27\n",
      "family record                                                            25\n",
      "Name: count, dtype: int64\n"
     ]
    }
   ],
   "source": [
    "import pandas as pd\n",
    "df = pd.read_parquet('df_grouped_NAID_sorted_title.parquet')\n",
    "\n",
    "from set_categories import set_categories, set_application_categories\n",
    "\n",
    "# Run the function\n",
    "df_categories = set_categories(df)\n",
    "\n",
    "# Check results\n",
    "print(\"File type distribution:\")\n",
    "print(df_categories['file_type'].value_counts())\n",
    "\n",
    "# revolutionary war pension and bounty land warrant application file should have count 78604"
   ]
  },
  {
   "cell_type": "code",
   "execution_count": 3,
   "id": "0ca28422",
   "metadata": {},
   "outputs": [
    {
     "name": "stdout",
     "output_type": "stream",
     "text": [
      "File cat distribution:\n",
      "file_cat\n",
      "soldier                                            34960\n",
      "widow                                              24253\n",
      "rejected                                           10745\n",
      "bounty land warrant                                 3060\n",
      "unknown                                             2491\n",
      "rejected||soldier                                   1411\n",
      "rejected||widow                                      830\n",
      "soldier||widow                                       475\n",
      "non_application                                      322\n",
      "bounty land warrant||soldier                         166\n",
      "bounty land warrant||rejected                        105\n",
      "bounty land warrant||widow                            34\n",
      "old war                                               17\n",
      "old war||rejected||widow                              12\n",
      "old war||widow                                        12\n",
      "old war||soldier                                       7\n",
      "old war||rejected                                      5\n",
      "rejected||soldier||widow                               5\n",
      "old war||rejected||soldier                             4\n",
      "old war||soldier||widow                                2\n",
      "old war||rejected||soldier||widow                      2\n",
      "bounty land warrant||rejected||soldier                 2\n",
      "bounty land warrant||soldier||widow                    2\n",
      "bounty land warrant||old war||rejected||soldier        1\n",
      "bounty land warrant||old war||rejected||widow          1\n",
      "bounty land warrant||rejected||widow                   1\n",
      "bounty land warrant||old war||soldier                  1\n",
      "Name: count, dtype: int64\n"
     ]
    }
   ],
   "source": [
    "df_categories_2 = set_application_categories(df_categories)\n",
    "\n",
    "# Check results\n",
    "print(\"File cat distribution:\")\n",
    "print(df_categories_2['file_cat'].value_counts())"
   ]
  },
  {
   "cell_type": "code",
   "execution_count": null,
   "id": "c3264ade",
   "metadata": {},
   "outputs": [],
   "source": []
  }
 ],
 "metadata": {
  "kernelspec": {
   "display_name": "pension-files",
   "language": "python",
   "name": "python3"
  },
  "language_info": {
   "codemirror_mode": {
    "name": "ipython",
    "version": 3
   },
   "file_extension": ".py",
   "mimetype": "text/x-python",
   "name": "python",
   "nbconvert_exporter": "python",
   "pygments_lexer": "ipython3",
   "version": "3.13.7"
  }
 },
 "nbformat": 4,
 "nbformat_minor": 5
}
