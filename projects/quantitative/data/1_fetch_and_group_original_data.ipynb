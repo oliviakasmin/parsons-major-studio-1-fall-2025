{
 "cells": [
  {
   "cell_type": "markdown",
   "id": "9830e8c1",
   "metadata": {},
   "source": [
    "### Fetch original data from hugging face, drop a few metadata columns, and group pension files data by NAID"
   ]
  },
  {
   "cell_type": "code",
   "execution_count": 21,
   "id": "a9e0d8a8",
   "metadata": {},
   "outputs": [],
   "source": [
    "import pandas as pd\n",
    "import re"
   ]
  },
  {
   "cell_type": "markdown",
   "id": "220a4573",
   "metadata": {},
   "source": [
    "##### Fetch data from hugging face (only run once ✅)"
   ]
  },
  {
   "cell_type": "code",
   "execution_count": null,
   "id": "259574ba",
   "metadata": {},
   "outputs": [],
   "source": [
    "# df = pd.read_parquet(\"hf://datasets/RevolutionCrossroads/nara_revolutionary_war_pension_files/nara_pension_file_pages.parquet\")"
   ]
  },
  {
   "cell_type": "code",
   "execution_count": null,
   "id": "e1d26bc6",
   "metadata": {},
   "outputs": [],
   "source": [
    "# Save the dataframe locally to avoid re-downloading\n",
    "# df.to_parquet('nara_pension_file_pages.parquet', engine='pyarrow')"
   ]
  },
  {
   "cell_type": "markdown",
   "id": "5f835736",
   "metadata": {},
   "source": [
    "#### Load locally saved df"
   ]
  },
  {
   "cell_type": "code",
   "execution_count": null,
   "id": "eef34c33",
   "metadata": {},
   "outputs": [],
   "source": [
    "# df = pd.read_parquet('nara_pension_file_pages.parquet')"
   ]
  },
  {
   "cell_type": "code",
   "execution_count": 4,
   "id": "ad12742d",
   "metadata": {},
   "outputs": [
    {
     "data": {
      "text/plain": [
       "(2244629, 19)"
      ]
     },
     "execution_count": 4,
     "metadata": {},
     "output_type": "execute_result"
    }
   ],
   "source": [
    "df.shape"
   ]
  },
  {
   "cell_type": "code",
   "execution_count": 5,
   "id": "63bd9c10",
   "metadata": {},
   "outputs": [],
   "source": [
    "# remove metatdata columns that aren't needed here\n",
    "df = df.drop(columns=['transcriptionDate', 'transcriptionUserNames', 'transcriptionContributionCount', 'transcriptionID', 'ocrID', 'ocrUploadDate', 'ocrContributor', 'variantControlNumbers'])"
   ]
  },
  {
   "cell_type": "code",
   "execution_count": 6,
   "id": "af3edd10",
   "metadata": {},
   "outputs": [
    {
     "data": {
      "text/plain": [
       "(2244629, 11)"
      ]
     },
     "execution_count": 6,
     "metadata": {},
     "output_type": "execute_result"
    }
   ],
   "source": [
    "df.shape"
   ]
  },
  {
   "cell_type": "code",
   "execution_count": null,
   "id": "ad467267",
   "metadata": {},
   "outputs": [
    {
     "name": "stdout",
     "output_type": "stream",
     "text": [
      "Number of NaN values in title column: 0\n"
     ]
    }
   ],
   "source": [
    "# Check for NaN values in the title column - should be zero\n",
    "print(\"Number of NaN values in title column:\", df['title'].isna().sum())"
   ]
  },
  {
   "cell_type": "code",
   "execution_count": 11,
   "id": "a16cd068",
   "metadata": {},
   "outputs": [],
   "source": [
    "# df.head()\n",
    "# df.tail()"
   ]
  },
  {
   "cell_type": "markdown",
   "id": "11d9e6ce",
   "metadata": {},
   "source": [
    "#### Group by NAID"
   ]
  },
  {
   "cell_type": "code",
   "execution_count": 12,
   "id": "bb36a409",
   "metadata": {},
   "outputs": [],
   "source": [
    "separator = '||'"
   ]
  },
  {
   "cell_type": "code",
   "execution_count": null,
   "id": "4ecf7d04",
   "metadata": {},
   "outputs": [],
   "source": [
    "# group by NAID to create a new df with the grouped data\n",
    "# for each row being grouped by the same NAID, concatenate the values for each row with \"||\" as a separator defined above\n",
    "\n",
    "# df_grouped = df.groupby('NAID').agg(lambda x: separator.join(x.dropna().astype(str))).reset_index()\n",
    "\n",
    "# also remove duplicates\n",
    "df_grouped = df.groupby('NAID').agg(lambda x: separator.join(x.dropna().astype(str).unique())).reset_index()"
   ]
  },
  {
   "cell_type": "code",
   "execution_count": 14,
   "id": "2c7f6c69",
   "metadata": {},
   "outputs": [
    {
     "name": "stdout",
     "output_type": "stream",
     "text": [
      "Number of NaN values in title column: 0\n"
     ]
    }
   ],
   "source": [
    "# Check for NaN values in the title column for new grouped df\n",
    "print(\"Number of NaN values in title column:\", df_grouped['title'].isna().sum())"
   ]
  },
  {
   "cell_type": "code",
   "execution_count": null,
   "id": "15edeae7",
   "metadata": {},
   "outputs": [
    {
     "name": "stdout",
     "output_type": "stream",
     "text": [
      "Number of titles containing separator '||': 0\n"
     ]
    }
   ],
   "source": [
    "# Check for titles containing separator '||'\n",
    "print(\"Number of titles containing separator '||':\", df_grouped['title'].str.contains(re.escape(separator), na=False).sum())"
   ]
  },
  {
   "cell_type": "code",
   "execution_count": 31,
   "id": "1f943919",
   "metadata": {},
   "outputs": [
    {
     "data": {
      "text/plain": [
       "(78926, 11)"
      ]
     },
     "execution_count": 31,
     "metadata": {},
     "output_type": "execute_result"
    }
   ],
   "source": [
    "df_grouped.shape\n",
    "# df_grouped.head()\n",
    "# df_grouped.info()"
   ]
  },
  {
   "cell_type": "code",
   "execution_count": 25,
   "id": "26f24c91",
   "metadata": {},
   "outputs": [],
   "source": [
    "df_grouped_sorted = df_grouped.sort_values(by='title')"
   ]
  },
  {
   "cell_type": "code",
   "execution_count": 28,
   "id": "b2bb359a",
   "metadata": {},
   "outputs": [],
   "source": [
    "# df_grouped_sorted.head()\n",
    "# df_grouped_sorted.tail()"
   ]
  },
  {
   "cell_type": "markdown",
   "id": "0d68b772",
   "metadata": {},
   "source": [
    "### Save parquet for rows grouped by NAID and sorted by title"
   ]
  },
  {
   "cell_type": "code",
   "execution_count": 30,
   "id": "b42345fe",
   "metadata": {},
   "outputs": [],
   "source": [
    "# save df_grouped_sorted to parquet\n",
    "df_grouped_sorted.to_parquet('df_grouped_NAID_sorted_title.parquet', engine='pyarrow')"
   ]
  }
 ],
 "metadata": {
  "kernelspec": {
   "display_name": "pension-files",
   "language": "python",
   "name": "python3"
  },
  "language_info": {
   "codemirror_mode": {
    "name": "ipython",
    "version": 3
   },
   "file_extension": ".py",
   "mimetype": "text/x-python",
   "name": "python",
   "nbconvert_exporter": "python",
   "pygments_lexer": "ipython3",
   "version": "3.13.7"
  }
 },
 "nbformat": 4,
 "nbformat_minor": 5
}
