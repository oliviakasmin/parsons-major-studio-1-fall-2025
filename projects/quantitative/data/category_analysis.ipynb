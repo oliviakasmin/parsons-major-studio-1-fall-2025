{
 "cells": [
  {
   "cell_type": "markdown",
   "id": "e558b5da",
   "metadata": {},
   "source": [
    "### Analyze categories of the overall dataset by title, and divide the pension application files into pre-determined categories"
   ]
  },
  {
   "cell_type": "code",
   "execution_count": 1,
   "id": "b55fef2f",
   "metadata": {},
   "outputs": [],
   "source": [
    "import pandas as pd\n",
    "import re"
   ]
  },
  {
   "cell_type": "code",
   "execution_count": 2,
   "id": "a36ba787",
   "metadata": {},
   "outputs": [],
   "source": [
    "df = pd.read_parquet('df_grouped_NAID_sorted_title.parquet')"
   ]
  },
  {
   "cell_type": "markdown",
   "id": "5920a4be",
   "metadata": {},
   "source": [
    "##### Look at first x characters of titles to see groupings "
   ]
  },
  {
   "cell_type": "code",
   "execution_count": 23,
   "id": "139edf31",
   "metadata": {},
   "outputs": [
    {
     "data": {
      "text/plain": [
       "title_prefix\n",
       "revolutionary war pen    78604\n",
       "microfilm target shee      270\n",
       "illustrated family re       24\n",
       "copy of the affidavit        4\n",
       "discharge certificate        4\n",
       "pension affidavit of         3\n",
       "newcomb family record        1\n",
       "statement of john cro        1\n",
       "sarah benjamin's eyew        1\n",
       "sampler of chester go        1\n",
       "sampler for the famil        1\n",
       "petition of william s        1\n",
       "pension application o        1\n",
       "birth and baptismal r        1\n",
       "copy of a letter to h        1\n",
       "fraktur of the family        1\n",
       "flying camp rations b        1\n",
       "diary of levi stedman        1\n",
       "daniel kimball's revo        1\n",
       "copy of the testimony        1\n",
       "copy of the statement        1\n",
       "copy of the commissio        1\n",
       "statement regarding p        1\n",
       "dtype: int64"
      ]
     },
     "execution_count": 23,
     "metadata": {},
     "output_type": "execute_result"
    }
   ],
   "source": [
    "df['title_prefix'] = df['title'].str[:21].str.lower()\n",
    "df.groupby('title_prefix').size().sort_values(ascending=False)"
   ]
  },
  {
   "cell_type": "code",
   "execution_count": 31,
   "id": "dc95caab",
   "metadata": {},
   "outputs": [
    {
     "data": {
      "text/plain": [
       "title_prefix\n",
       "revolutionary war pension    78604\n",
       "microfilm target sheet         270\n",
       "illustrated family record       24\n",
       "copy of the affidavit of         4\n",
       "discharge certificate for        2\n",
       "discharge certificate of         2\n",
       "pension affidavit of cato        1\n",
       "statement of john crosley        1\n",
       "sarah benjamin's eyewitne        1\n",
       "sampler of chester goodal        1\n",
       "sampler for the family of        1\n",
       "petition of william scott        1\n",
       "pension application of pr        1\n",
       "pension affidavit of prin        1\n",
       "pension affidavit of cuff        1\n",
       "birth and baptismal recor        1\n",
       "newcomb family record            1\n",
       "copy of a letter to henry        1\n",
       "fraktur of the family of         1\n",
       "flying camp rations broad        1\n",
       "diary of levi stedman of         1\n",
       "daniel kimball's revoluti        1\n",
       "copy of the testimony of         1\n",
       "copy of the statement by         1\n",
       "copy of the commission is        1\n",
       "statement regarding princ        1\n",
       "dtype: int64"
      ]
     },
     "execution_count": 31,
     "metadata": {},
     "output_type": "execute_result"
    }
   ],
   "source": [
    "df['title_prefix'] = df['title'].str[:25].str.lower()\n",
    "df.groupby('title_prefix').size().sort_values(ascending=False)"
   ]
  },
  {
   "cell_type": "code",
   "execution_count": 199,
   "id": "e2632dba",
   "metadata": {},
   "outputs": [
    {
     "data": {
      "text/plain": [
       "title_prefix\n",
       "revolutionary war pension and bounty land warrant application file    78604\n",
       "microfilm target sheet                                                  270\n",
       "illustrated family record (fraktur) found in revolutionary war pen       20\n",
       "pension affidavit of prince vaughan                                       1\n",
       "illustrated family record [fraktur] of john jenkins                       1\n",
       "illustrated family record [fraktur] of john mersereau                     1\n",
       "newcomb family record                                                     1\n",
       "pension affidavit of cato greene                                          1\n",
       "pension affidavit of cuff greene                                          1\n",
       "birth and baptismal record of dorothea garecht sell                       1\n",
       "illustrated family record (fraktur) for ezekiel root, connecticut         1\n",
       "petition of william scott, late a major in the new hampshire line,        1\n",
       "sampler for the family of peter and mary booth                            1\n",
       "sampler of chester goodale                                                1\n",
       "sarah benjamin's eyewitness account of the surrender at yorktown          1\n",
       "statement of john crosley, son of prince crosley a formerly enslav        1\n",
       "pension application of prince mclellan                                    1\n",
       "illustrated family record                                                 1\n",
       "copy of a letter to henry dearborn, secretary of war, from adam co        1\n",
       "copy of the testimony of asa c. barney and beroth bullard, surgeon        1\n",
       "copy of the affidavit of david johnson of hadley, new york, recoun        1\n",
       "copy of the affidavit of joseph henderson of western, new york, re        1\n",
       "copy of the affidavit of samuel cherry of paris, new york, recount        1\n",
       "copy of the affidavit of william scott of greenfield, new york, re        1\n",
       "copy of the commission issued to adam comstock by united states di        1\n",
       "copy of the statement by adam comstock certifying the credibility         1\n",
       "daniel kimball's revolutionary war journal of the march to quebec         1\n",
       "fraktur of the family of peter hunt                                       1\n",
       "diary of levi stedman of connecticut                                      1\n",
       "discharge certificate for abner poland                                    1\n",
       "discharge certificate for private cato greene from military servic        1\n",
       "discharge certificate of cuff greene                                      1\n",
       "discharge certificate of prince vaughan                                   1\n",
       "flying camp rations broadside                                             1\n",
       "statement regarding prince mclellan                                       1\n",
       "dtype: int64"
      ]
     },
     "execution_count": 199,
     "metadata": {},
     "output_type": "execute_result"
    }
   ],
   "source": [
    "df['title_prefix'] = df['title'].str.replace('-', ' ')\n",
    "df['title_prefix'] = df['title_prefix'].str[:66].str.lower()\n",
    "df.groupby('title_prefix').size().sort_values(ascending=False)"
   ]
  },
  {
   "cell_type": "markdown",
   "id": "00c39132",
   "metadata": {},
   "source": [
    "### Filter data by title that starts with 'revolutionary war pension and bounty land warrant application file'"
   ]
  },
  {
   "cell_type": "code",
   "execution_count": null,
   "id": "7a5e741d",
   "metadata": {},
   "outputs": [],
   "source": [
    "df_filtered = df.copy()"
   ]
  },
  {
   "cell_type": "code",
   "execution_count": 261,
   "id": "ac4df2db",
   "metadata": {},
   "outputs": [],
   "source": [
    "application_prefix = 'revolutionary war pension and bounty land warrant application file'\n",
    "\n",
    "df_filtered['title_modified'] = (df_filtered['title']\n",
    "    .str.replace('-', ' ')\n",
    "    .str.lower()\n",
    "    .str.replace(application_prefix + 's', application_prefix, case=False, regex=False)\n",
    ")\n",
    "\n",
    "# filter by title starts with application_prefix\n",
    "df_filtered = df_filtered[df_filtered['title_modified'].str.startswith(application_prefix.lower())]"
   ]
  },
  {
   "cell_type": "code",
   "execution_count": 262,
   "id": "dfeedcd8",
   "metadata": {},
   "outputs": [
    {
     "data": {
      "text/plain": [
       "(78604, 14)"
      ]
     },
     "execution_count": 262,
     "metadata": {},
     "output_type": "execute_result"
    }
   ],
   "source": [
    "df_filtered.shape"
   ]
  },
  {
   "cell_type": "markdown",
   "id": "6d89ffdd",
   "metadata": {},
   "source": [
    "### Data cleaning & sort into categories"
   ]
  },
  {
   "cell_type": "code",
   "execution_count": null,
   "id": "8c6422d0",
   "metadata": {},
   "outputs": [],
   "source": [
    "df_filtered['title_modified'] = df_filtered['title_modified'].str.replace(application_prefix, '', regex=True)\n",
    "\n",
    "# short hand for registration and other words don't need\n",
    "words = [\"reg\", \"rej\", \"red\", \"for\", \"file\", \"see\"]\n",
    "for word in words:\n",
    "    df_filtered['title_modified'] = df_filtered['title_modified'].str.replace(word, '', regex=False)\n",
    "\n",
    "# various punctuation\n",
    "punctuation = [',', '.', '!', '?', ':', ';', '-', '_', '(', ')', '[', ']', '{', '}', '\\'', '\\\"', '/', '\\\\', '|', '`', '~', '=', '+', '*', '#', '@', '%', '$', '^', '&']\n",
    "\n",
    "for punct in punctuation:\n",
    "    df_filtered['title_modified'] = df_filtered['title_modified'].str.replace(punct, ' ', regex=False)\n",
    "\n",
    "# Replace multiple consecutive spaces with a single space\n",
    "df_filtered['title_modified'] = df_filtered['title_modified'].str.replace(' +', ' ', regex=True)"
   ]
  },
  {
   "cell_type": "code",
   "execution_count": 266,
   "id": "06bafb72",
   "metadata": {},
   "outputs": [
    {
     "data": {
      "text/plain": [
       "title_modified\n",
       " s     36096\n",
       " w     25512\n",
       " r     11130\n",
       " b      3227\n",
       "        1446\n",
       " bl      538\n",
       " na      304\n",
       " il       98\n",
       " ol       45\n",
       " jo       20\n",
       " wt       19\n",
       " o        16\n",
       " ct       15\n",
       " wi       11\n",
       " n        10\n",
       " ja       10\n",
       " th        6\n",
       " su        5\n",
       " ro        5\n",
       " 4         5\n",
       " no        4\n",
       " he        4\n",
       " ch        4\n",
       " da        4\n",
       " di        4\n",
       " se        3\n",
       " sa        3\n",
       " 18        3\n",
       " ab        2\n",
       " ad        2\n",
       " s4        2\n",
       " ne        2\n",
       " je        2\n",
       " bo        2\n",
       " mi        2\n",
       " ec        2\n",
       " eb        2\n",
       " sp        1\n",
       " 14        1\n",
       " s1        1\n",
       " s2        1\n",
       " s3        1\n",
       " ev        1\n",
       " sh        1\n",
       " st        1\n",
       " 23        1\n",
       " 36        1\n",
       " sy        1\n",
       " t         1\n",
       " ac        1\n",
       " ur        1\n",
       " va        1\n",
       " 13        1\n",
       " co        1\n",
       " am        1\n",
       " hu        1\n",
       " 17        1\n",
       " pe        1\n",
       " ba        1\n",
       " ge        1\n",
       " 10        1\n",
       " k         1\n",
       " ka        1\n",
       " m         1\n",
       " mc        1\n",
       " aa        1\n",
       " 39        1\n",
       " 20        1\n",
       " fe        1\n",
       " ni        1\n",
       " ca        1\n",
       " an        1\n",
       " ez        1\n",
       " p         1\n",
       " p5        1\n",
       " ri        1\n",
       "dtype: int64"
      ]
     },
     "execution_count": 266,
     "metadata": {},
     "output_type": "execute_result"
    }
   ],
   "source": [
    "# df_filtered.groupby(df_filtered['title'].str[len(application_prefix):len(application_prefix) + 3]).size().sort_values(ascending=False)\n",
    "\n",
    "pd.set_option('display.max_rows', 100)\n",
    "df_filtered.groupby(df_filtered['title_modified'].str[:3]).size().sort_values(ascending=False)"
   ]
  },
  {
   "cell_type": "code",
   "execution_count": 328,
   "id": "3dc0b5d1",
   "metadata": {},
   "outputs": [
    {
     "data": {
      "text/html": [
       "<div>\n",
       "<style scoped>\n",
       "    .dataframe tbody tr th:only-of-type {\n",
       "        vertical-align: middle;\n",
       "    }\n",
       "\n",
       "    .dataframe tbody tr th {\n",
       "        vertical-align: top;\n",
       "    }\n",
       "\n",
       "    .dataframe thead th {\n",
       "        text-align: right;\n",
       "    }\n",
       "</style>\n",
       "<table border=\"1\" class=\"dataframe\">\n",
       "  <thead>\n",
       "    <tr style=\"text-align: right;\">\n",
       "      <th></th>\n",
       "      <th>NAID</th>\n",
       "      <th>naraURL</th>\n",
       "      <th>title</th>\n",
       "      <th>logicalDate</th>\n",
       "      <th>pdfObjectID</th>\n",
       "      <th>pdfURL</th>\n",
       "      <th>pageObjectId</th>\n",
       "      <th>pageURL</th>\n",
       "      <th>pageImageType</th>\n",
       "      <th>ocrText</th>\n",
       "      <th>transcriptionText</th>\n",
       "      <th>title_prefix</th>\n",
       "      <th>file_cat</th>\n",
       "      <th>title_modified</th>\n",
       "    </tr>\n",
       "  </thead>\n",
       "  <tbody>\n",
       "    <tr>\n",
       "      <th>9611</th>\n",
       "      <td>144028666</td>\n",
       "      <td>https://catalog.archives.gov/id/144028666</td>\n",
       "      <td>Revolutionary War Pension and Bounty Land Warr...</td>\n",
       "      <td></td>\n",
       "      <td></td>\n",
       "      <td></td>\n",
       "      <td>144028667||144028668||144028669||144028670||14...</td>\n",
       "      <td>https://s3.amazonaws.com/NARAprodstorage/lz/mi...</td>\n",
       "      <td>Image (JPG)</td>\n",
       "      <td>NATIONAL ARCHIVES MICROFILM PUBLICATIONS\\nREVO...</td>\n",
       "      <td>[HEADING]  NATIONAL ARCHIVES MICROFILM PUBLICA...</td>\n",
       "      <td>revolutionary war pension and bounty land warr...</td>\n",
       "      <td></td>\n",
       "      <td>microfilm pamphlet</td>\n",
       "    </tr>\n",
       "  </tbody>\n",
       "</table>\n",
       "</div>"
      ],
      "text/plain": [
       "           NAID                                    naraURL  \\\n",
       "9611  144028666  https://catalog.archives.gov/id/144028666   \n",
       "\n",
       "                                                  title logicalDate  \\\n",
       "9611  Revolutionary War Pension and Bounty Land Warr...               \n",
       "\n",
       "     pdfObjectID pdfURL                                       pageObjectId  \\\n",
       "9611                     144028667||144028668||144028669||144028670||14...   \n",
       "\n",
       "                                                pageURL pageImageType  \\\n",
       "9611  https://s3.amazonaws.com/NARAprodstorage/lz/mi...   Image (JPG)   \n",
       "\n",
       "                                                ocrText  \\\n",
       "9611  NATIONAL ARCHIVES MICROFILM PUBLICATIONS\\nREVO...   \n",
       "\n",
       "                                      transcriptionText  \\\n",
       "9611  [HEADING]  NATIONAL ARCHIVES MICROFILM PUBLICA...   \n",
       "\n",
       "                                           title_prefix file_cat  \\\n",
       "9611  revolutionary war pension and bounty land warr...            \n",
       "\n",
       "           title_modified  \n",
       "9611   microfilm pamphlet  "
      ]
     },
     "execution_count": 328,
     "metadata": {},
     "output_type": "execute_result"
    }
   ],
   "source": [
    "# investigate groupings\n",
    "\n",
    "# df_filtered.groupby(df_filtered['title'].str[len(application_prefix):len(application_prefix) + 3]).size().sort_values(ascending=False)\n",
    "\n",
    "# df_filtered['title'].str.contains(f'{application_prefix}  bl ').sum()\n",
    "\n",
    "\n",
    "# Show both original and modified titles\n",
    "# mask = df_filtered['title'].str.contains(' n ', na=False, regex=False)\n",
    "# mask = df_filtered['title_modified'].str.contains(' s ', na=False, regex=False)\n",
    "# df_filtered[mask].assign(modified_title=df_filtered[mask]['title_modified'].str.replace(application_prefix + ' ', '', regex=False))[['title_modified', 'modified_title']]\n",
    "\n",
    "# df_filtered['title_modified'].str.startswith(' illegible ').sum()\n",
    "\n",
    "# (df_filtered['title_modified'].str.strip() == '').sum()\n",
    "\n",
    "df_filtered[df_filtered['title_modified'].str.contains('microfilm pamphlet')]\n"
   ]
  },
  {
   "cell_type": "markdown",
   "id": "bb2e940d",
   "metadata": {},
   "source": [
    "#### Add file_cat column and categorize based on dictionary\n",
    "\n",
    "using \"unkown\" to group titles with no other info, that have \"blank\" and that have \"illegible\""
   ]
  },
  {
   "cell_type": "code",
   "execution_count": 321,
   "id": "8493d773",
   "metadata": {},
   "outputs": [],
   "source": [
    "# Initialize file_cat column\n",
    "df_filtered['file_cat'] = ''"
   ]
  },
  {
   "cell_type": "code",
   "execution_count": 322,
   "id": "c3a788f3",
   "metadata": {},
   "outputs": [],
   "source": [
    "# Set file_cat to \"unknown\" for empty or whitespace-only title_modified\n",
    "mask = df_filtered['title_modified'].str.strip() == ''\n",
    "df_filtered.loc[mask, 'file_cat'] = 'unknown'"
   ]
  },
  {
   "cell_type": "code",
   "execution_count": null,
   "id": "f5522106",
   "metadata": {},
   "outputs": [],
   "source": [
    "category_dict = {\n",
    "    \"soldier\": ['s', 'sur'], # soldier (survived)\n",
    "    'rejected': ['r', 'k'], # rejected\n",
    "    \"widow\": ['w', 'wid'], # widow\n",
    "    \"bounty land warrant\": ['b', 'bl', 'wt', 'b l wt', 'bounty land', 'blwt'], # bounty land warrant\n",
    "    \"old war\": ['old act', 'old war', 'o w', 'ow'], # old war\n",
    "    \"nara accession\": ['n a acc no', 'acc no', 'no'], # National Archives Accession\n",
    "    \"unknown\": [\"blank\", \"illegible\", \"ctf\"], #(ctf = certificate)\n",
    "    \"nara archival administrative sheets\": [\"nara archival administrative sheets\"]\n",
    "}\n",
    "\n",
    "# Handle the special case for \"nara archival administrative sheets\" first\n",
    "nara_value = \"nara archival administrative sheets\"\n",
    "nara_mask = df_filtered['title_modified'].str.contains(nara_value, na=False)\n",
    "df_filtered.loc[nara_mask, 'file_cat'] = nara_value\n",
    "\n",
    "# For all other key-value pairs in category_dict (excluding the nara case)\n",
    "for key, values in category_dict.items():\n",
    "    if key != \"nara archival administrative sheets\":  # Skip the special case\n",
    "        for value in values:\n",
    "            if value:  # Skip empty lists\n",
    "                # Check if title_modified starts with \" \" + value + \" \"\n",
    "                pattern = f' {value} '\n",
    "                mask = df_filtered['title_modified'].str.startswith(pattern, na=False)\n",
    "                df_filtered.loc[mask, 'file_cat'] = key\n",
    "\n",
    "\n",
    "\n",
    "# # For each key-value pair in category_dict\n",
    "# for key, values in category_dict.items():\n",
    "#     for value in values:\n",
    "#         if value:  # Skip empty lists\n",
    "#             # Check if title_modified starts with \" \" + value + \" \"\n",
    "#             pattern = f' {value} '\n",
    "#             mask = df_filtered['title_modified'].str.startswith(pattern, na=False)\n",
    "#             df_filtered.loc[mask, 'file_cat'] = key\n",
    "\n",
    "\n",
    "\n",
    "# # handle these separately because different pattern\n",
    "# nara_mask = df_filtered['title_modified'].str.startswith(category_dict[\"nara archival administrative sheets\"][0], na=False)\n",
    "# df_filtered.loc[nara_mask, 'file_cat'] = category_dict[\"nara archival administrative sheets\"]"
   ]
  },
  {
   "cell_type": "code",
   "execution_count": 338,
   "id": "5e6043cb",
   "metadata": {},
   "outputs": [
    {
     "data": {
      "text/plain": [
       "file_cat\n",
       "soldier                                36101\n",
       "widow                                  25516\n",
       "rejected                               11131\n",
       "bounty land warrant                     3261\n",
       "unknown                                 2084\n",
       "nara archival administrative sheets      303\n",
       "                                         132\n",
       "old war                                   61\n",
       "nara accession                            15\n",
       "dtype: int64"
      ]
     },
     "execution_count": 338,
     "metadata": {},
     "output_type": "execute_result"
    }
   ],
   "source": [
    "df_filtered.groupby(df_filtered['file_cat']).size().sort_values(ascending=False)"
   ]
  },
  {
   "cell_type": "code",
   "execution_count": 339,
   "id": "74c8c296",
   "metadata": {},
   "outputs": [
    {
     "data": {
      "text/plain": [
       "58024                     17 692 william cremer new jersey\n",
       "72250                                 1828 david hall n c \n",
       "77760            36585 ezekiel hotchkiss continental conn \n",
       "42624                              4 365 enoch bagley n h \n",
       "56430                         4 2 217 nicholas conly penn \n",
       "56417     4 2 218 thomas conley new jersey indian war w...\n",
       "56425                             4 2 221 neill conly n c \n",
       "56531                    4 3 041 william connor new jersey\n",
       "18301       abraham t abraham titcomb sweatt new hampshire\n",
       "54897                             bateson john clarke del \n",
       "57461                      covert bergun covert new jersey\n",
       "61287                          dickson miles dickson conn \n",
       "66767                                dickson peter ney n c\n",
       "47770                             dis henry bouce new york\n",
       "62844     dis william dunton navy pennsylvania residenc...\n",
       "18691                   ferson daniel b tarr massachusetts\n",
       "40526                           jej b l john alexander va \n",
       "30355            m l wt 194 500 john patten north carolina\n",
       "14394            mc connell james mc connel north carolina\n",
       "28543                    nelson moses nelson massachusetts\n",
       "75018                            nevens stephen hedger va \n",
       "67567                          nims silas french mass n h \n",
       "48191              p 35 784 charles boyles continental va \n",
       "15283                    p595 charles mc millen new jersey\n",
       "42846                              1812 jacob baker blank \n",
       "47366     1396 55 ferick boley not revolution french wa...\n",
       "28818           233729 1855 william nichols south carolina\n",
       "1198                    10807 jacob upp of york york co pa\n",
       "23442                 144874 55 john layman north carolina\n",
       "32850                  18936 50 1875 55 james power blank \n",
       "27831                     20759 john morrison pennsylvania\n",
       "68543          3931 michael garroutte sea service n j res \n",
       "12689                            ected 44666 simon mahoney\n",
       "13795              ected b l 335497 lovell massey virginia\n",
       "43077                            s12091 levi baldwin mass \n",
       "40388                   s2904 abraham albertson new jersey\n",
       "41321              s39149 benjamin andrews continental vt \n",
       "55456                 s45699 john cockle continental mass \n",
       "44018                          s4936 jonathan barron mass \n",
       "59056     see 1812 s ow wid fde 13640 vincent dailey no...\n",
       "3191      see n a acc no 874 no 050185 elnathan ward ma...\n",
       "34993     see n a acc no 874 no 050162 patrick shea sou...\n",
       "24692            sp b l wt 640 richard livingston new york\n",
       "39827                 t 16592 moses abbot continental n h \n",
       "65658                               th zebulon field mass \n",
       "1736                   van dyck john d van patten new york\n",
       "16717                            aaron smith new hampshire\n",
       "15506                             abraham mead connecticut\n",
       "18410                             adam sybert pennsylvania\n",
       "18412                              adam syfat pennsylvania\n",
       "16755                            ambrose smith connecticut\n",
       "10063                         anthony jackson pennsylvania\n",
       "10652                             caleb jewett connecticut\n",
       "14438                      charles mc cormick pennsylvania\n",
       "19723                       charles mynn thruston virginia\n",
       "19834                         charles tilden new hampshire\n",
       "14978                       christopher mc kannon virginia\n",
       "13071                         daniel mansfield connecticut\n",
       "14649                            daniel mc donald delaware\n",
       "19407                          daniel thompson connecticut\n",
       "10099                           david jackson pennsylvania\n",
       "11827                          ebenezer kent massachusetts\n",
       "19983                       ebenezer tinkham new hampshire\n",
       "15927                                evan ragland virginia\n",
       "16898                       ezekiel spalding massachusetts\n",
       "17759                                    george strobridge\n",
       "11907                                   henry kerr georgia\n",
       "16668                       henry slotterback pennsylvania\n",
       "19864                           henry tillien pennsylvania\n",
       "19931                             henry timmerman new york\n",
       "12118                                  hugh lawson georgia\n",
       "20159                          jabez tomlinson connecticut\n",
       "10887                               jacob johnson virginia\n",
       "10620                              james jerolman new york\n",
       "13348                              james marshall virginia\n",
       "13515                          james martin south carolina\n",
       "14374                                        james mc conn\n",
       "17081                                 james steel new york\n",
       "17942                        james sturdevant pennsylvania\n",
       "18823                                james taylor virginia\n",
       "19435                            james thompson new jersey\n",
       "19059                          jean baptiste ternant other\n",
       "10025                                joel ives connecticut\n",
       "9668                             john hunter massachusetts\n",
       "10960                          john johnson north carolina\n",
       "11803                                john kendrick georgia\n",
       "12878                                 john malone new york\n",
       "12948                            john manley massachusetts\n",
       "13944                               john matthews maryland\n",
       "14388                              john mc comb new jersey\n",
       "14410                         john mc connel massachusetts\n",
       "15088                           john mc kinsey connecticut\n",
       "15085                        john mc kinstry massachusetts\n",
       "16930                               john starr connecticut\n",
       "18842                                 john taylor new york\n",
       "20207                              john tones rhode island\n",
       "20208                              john toney rhode island\n",
       "18911                    josep spencer taylor rhode island\n",
       "11182                                      joseph johnston\n",
       "11902                           joseph kerr north carolina\n",
       "Name: title_modified, dtype: object"
      ]
     },
     "execution_count": 339,
     "metadata": {},
     "output_type": "execute_result"
    }
   ],
   "source": [
    "# Show first 10 title_modified strings where file_cat is empty\n",
    "df_filtered[df_filtered['file_cat'] == '']['title_modified'].head(100)\n",
    "\n",
    "\n",
    "\n",
    "# Handle a few other special cases\n",
    "# contains \"ow\", \" b l \" \"  l wt  \"\n",
    "\n",
    "\n",
    "\n"
   ]
  },
  {
   "cell_type": "code",
   "execution_count": null,
   "id": "a95c4b38",
   "metadata": {},
   "outputs": [],
   "source": [
    "# for any rows that have file_cat = \"\" then check if the title_modified contains any values in category_dict for \"bounty land warrant\" and \"old war\" and if so, set file_cat to the key\n"
   ]
  }
 ],
 "metadata": {
  "kernelspec": {
   "display_name": "pension-files",
   "language": "python",
   "name": "python3"
  },
  "language_info": {
   "codemirror_mode": {
    "name": "ipython",
    "version": 3
   },
   "file_extension": ".py",
   "mimetype": "text/x-python",
   "name": "python",
   "nbconvert_exporter": "python",
   "pygments_lexer": "ipython3",
   "version": "3.13.7"
  }
 },
 "nbformat": 4,
 "nbformat_minor": 5
}
